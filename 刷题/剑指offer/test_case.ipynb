{
 "cells": [
  {
   "cell_type": "code",
   "execution_count": 2,
   "metadata": {
    "collapsed": true
   },
   "outputs": [],
   "source": [
    "import numpy as np\n",
    "import pandas as pd\n",
    "import matplotlib.pyplot as plt\n",
    "# nums = [0,1,1]\n",
    "# a = 9\n",
    "# for num in nums:\n",
    "#     a=a^num\n",
    "# print(a)"
   ]
  },
  {
   "cell_type": "code",
   "execution_count": 14,
   "outputs": [
    {
     "data": {
      "text/plain": "   class     value\n0      B  0.789563\n1      A  0.384859\n2      B  0.149105\n3      B  0.958067\n4      B  0.398135\n..   ...       ...\n95     A  0.755478\n96     B  0.630045\n97     B  0.508178\n98     B  0.011115\n99     A  0.678621\n\n[100 rows x 2 columns]",
      "text/html": "<div>\n<style scoped>\n    .dataframe tbody tr th:only-of-type {\n        vertical-align: middle;\n    }\n\n    .dataframe tbody tr th {\n        vertical-align: top;\n    }\n\n    .dataframe thead th {\n        text-align: right;\n    }\n</style>\n<table border=\"1\" class=\"dataframe\">\n  <thead>\n    <tr style=\"text-align: right;\">\n      <th></th>\n      <th>class</th>\n      <th>value</th>\n    </tr>\n  </thead>\n  <tbody>\n    <tr>\n      <th>0</th>\n      <td>B</td>\n      <td>0.789563</td>\n    </tr>\n    <tr>\n      <th>1</th>\n      <td>A</td>\n      <td>0.384859</td>\n    </tr>\n    <tr>\n      <th>2</th>\n      <td>B</td>\n      <td>0.149105</td>\n    </tr>\n    <tr>\n      <th>3</th>\n      <td>B</td>\n      <td>0.958067</td>\n    </tr>\n    <tr>\n      <th>4</th>\n      <td>B</td>\n      <td>0.398135</td>\n    </tr>\n    <tr>\n      <th>...</th>\n      <td>...</td>\n      <td>...</td>\n    </tr>\n    <tr>\n      <th>95</th>\n      <td>A</td>\n      <td>0.755478</td>\n    </tr>\n    <tr>\n      <th>96</th>\n      <td>B</td>\n      <td>0.630045</td>\n    </tr>\n    <tr>\n      <th>97</th>\n      <td>B</td>\n      <td>0.508178</td>\n    </tr>\n    <tr>\n      <th>98</th>\n      <td>B</td>\n      <td>0.011115</td>\n    </tr>\n    <tr>\n      <th>99</th>\n      <td>A</td>\n      <td>0.678621</td>\n    </tr>\n  </tbody>\n</table>\n<p>100 rows × 2 columns</p>\n</div>"
     },
     "execution_count": 14,
     "metadata": {},
     "output_type": "execute_result"
    }
   ],
   "source": [
    "import numpy as np\n",
    "import pandas as pd\n",
    "\n",
    "df = pd.DataFrame({'class': np.random.choice(['A', 'B'], 100),\n",
    "                   'value':np.random.random_sample(100)})\n",
    "df"
   ],
   "metadata": {
    "collapsed": false,
    "pycharm": {
     "name": "#%%\n"
    }
   }
  },
  {
   "cell_type": "code",
   "execution_count": 15,
   "outputs": [],
   "source": [
    "df['dataset'] = pd.DataFrame(df.groupby('class').apply(lambda x: pd.cut(x['value'], 10, labels=range(0, 10)))).reset_index(0, drop=True)"
   ],
   "metadata": {
    "collapsed": false,
    "pycharm": {
     "name": "#%%\n"
    }
   }
  },
  {
   "cell_type": "code",
   "execution_count": 16,
   "outputs": [
    {
     "data": {
      "text/plain": "<pandas.core.groupby.generic.DataFrameGroupBy object at 0x0000029ED8AD86A0>"
     },
     "execution_count": 16,
     "metadata": {},
     "output_type": "execute_result"
    }
   ],
   "source": [
    "df.groupby('class')"
   ],
   "metadata": {
    "collapsed": false,
    "pycharm": {
     "name": "#%%\n"
    }
   }
  },
  {
   "cell_type": "code",
   "execution_count": 46,
   "outputs": [
    {
     "name": "stdout",
     "output_type": "stream",
     "text": [
      "          one  two  three\n",
      "Ohio        0    1      2\n",
      "Colorado    3    4      5\n",
      "one  two  three\n",
      "0    1    2        1\n",
      "3    4    5        1\n",
      "dtype: int64\n"
     ]
    },
    {
     "data": {
      "text/plain": "three      2    5\none two          \n0   1    1.0  NaN\n3   4    NaN  1.0",
      "text/html": "<div>\n<style scoped>\n    .dataframe tbody tr th:only-of-type {\n        vertical-align: middle;\n    }\n\n    .dataframe tbody tr th {\n        vertical-align: top;\n    }\n\n    .dataframe thead th {\n        text-align: right;\n    }\n</style>\n<table border=\"1\" class=\"dataframe\">\n  <thead>\n    <tr style=\"text-align: right;\">\n      <th></th>\n      <th>three</th>\n      <th>2</th>\n      <th>5</th>\n    </tr>\n    <tr>\n      <th>one</th>\n      <th>two</th>\n      <th></th>\n      <th></th>\n    </tr>\n  </thead>\n  <tbody>\n    <tr>\n      <th>0</th>\n      <th>1</th>\n      <td>1.0</td>\n      <td>NaN</td>\n    </tr>\n    <tr>\n      <th>3</th>\n      <th>4</th>\n      <td>NaN</td>\n      <td>1.0</td>\n    </tr>\n  </tbody>\n</table>\n</div>"
     },
     "execution_count": 46,
     "metadata": {},
     "output_type": "execute_result"
    }
   ],
   "source": [
    "# 创建一个df\n",
    "data = pd.DataFrame(np.arange(6).reshape((2, 3)),\n",
    "                    index=pd.Index(['Ohio', 'Colorado']),\n",
    "                    columns=pd.Index(['one', 'two', 'three']))\n",
    "print(data)\n",
    "data = data.groupby([\"one\", \"two\",\"three\"]).size()\n",
    "# a=data.stack()\n",
    "# a\n",
    "print(data)\n",
    "data.unstack()"
   ],
   "metadata": {
    "collapsed": false,
    "pycharm": {
     "name": "#%%\n"
    }
   }
  },
  {
   "cell_type": "code",
   "execution_count": 47,
   "outputs": [
    {
     "data": {
      "text/plain": "<AxesSubplot:xlabel='two,three'>"
     },
     "execution_count": 47,
     "metadata": {},
     "output_type": "execute_result"
    },
    {
     "data": {
      "text/plain": "<Figure size 432x288 with 1 Axes>",
      "image/png": "[encoded data removed]"
     },
     "metadata": {
      "needs_background": "light"
     },
     "output_type": "display_data"
    }
   ],
   "source": [
    "data.unstack(0).plot()"
   ],
   "metadata": {
    "collapsed": false,
    "pycharm": {
     "name": "#%%\n"
    }
   }
  },
  {
   "cell_type": "code",
   "execution_count": 1,
   "outputs": [
    {
     "data": {
      "text/plain": "<Figure size 432x288 with 1 Axes>",
      "image/png": "[encoded data removed]"
     },
     "metadata": {
      "needs_background": "light"
     },
     "output_type": "display_data"
    }
   ],
   "source": [
    "# load Boston dataset\n",
    "import pandas as pd\n",
    "import numpy as np\n",
    "import seaborn as sns\n",
    "import matplotlib.pyplot as plt\n",
    "from sklearn.datasets import load_boston\n",
    "boston = load_boston()\n",
    "df = pd.DataFrame(boston.data, columns = boston.feature_names)\n",
    "\n",
    "# Missing Percentage + Variance\n",
    "stat_df = pd.DataFrame({'# of miss':df.isnull().sum(),\n",
    "                        '% of miss':df.isnull().sum() / len(df) * 100,\n",
    "                        'var':df.var()})\n",
    "\n",
    "# Frequency\n",
    "cat_name = 'CHAS'\n",
    "chas = df[cat_name].value_counts().sort_index()\n",
    "cat_df = pd.DataFrame({'enumerate_val':list(chas.index), 'frequency':list(chas.values)})\n",
    "sns.barplot(x = \"enumerate_val\", y = \"frequency\",data = cat_df, palette=\"Set3\")\n",
    "for x, y in zip(range(len(cat_df)), cat_df.frequency):\n",
    "    plt.text(x, y, '%d'%y, ha='center', va='bottom', color='grey')\n",
    "plt.title(cat_name)\n",
    "plt.show()"
   ],
   "metadata": {
    "collapsed": false,
    "pycharm": {
     "name": "#%%\n"
    }
   }
  },
  {
   "cell_type": "code",
   "execution_count": 29,
   "outputs": [
    {
     "name": "stdout",
     "output_type": "stream",
     "text": [
      "state    Ohio\n",
      "year     2000\n",
      "pop       1.5\n",
      "Name: 0, dtype: object\n"
     ]
    }
   ],
   "source": [
    "df = {'state': ['Ohio', 'Ohio', 'Ohio', 'Nevada', 'Nevada', 'Nevada'],\n",
    "        'year': [2000, 2001, 2002, 2001, 2002, 2003],\n",
    "        'pop': [1.5, 1.7, 3.6, 2.4, 2.9, 3.2]}\n",
    "# a.max()\n",
    "df = pd.DataFrame(df)\n",
    "print(df.loc[0])\n",
    "# c_min = df[col].min()\n",
    "# c_max = df[col].max()\n",
    "# if c_min > np.iinfo(np.int8).min and c_max < np.iinfo(np.int8).max:\n",
    "#     df[col] = df[col].astype(np.int8)"
   ],
   "metadata": {
    "collapsed": false,
    "pycharm": {
     "name": "#%%\n"
    }
   }
  },
  {
   "cell_type": "code",
   "execution_count": 4,
   "outputs": [
    {
     "name": "stdout",
     "output_type": "stream",
     "text": [
      "(150, 4)\n",
      "(150, 3)\n",
      "(150, 2)\n"
     ]
    }
   ],
   "source": [
    "\"\"\"\n",
    "embedded 选择特征：\n",
    "\"\"\"\n",
    "from sklearn.datasets import load_iris\n",
    "from sklearn.feature_selection import SelectFromModel\n",
    "from sklearn.linear_model import LogisticRegression\n",
    "from sklearn.ensemble import GradientBoostingClassifier\n",
    "\n",
    "iris = load_iris()\n",
    "\n",
    "# 将待L1惩罚项的逻辑回归作为基模型的特征选择\n",
    "selected_data_lr = SelectFromModel(LogisticRegression(penalty='l1', C = 0.1, solver = 'liblinear'), max_features = 3).fit_transform(iris.data, iris.target)\n",
    "\n",
    "# 将GBDT作为基模型的特征选择\n",
    "selected_data_gbdt = SelectFromModel(GradientBoostingClassifier(), max_features = 3).fit_transform(iris.data, iris.target)\n",
    "\n",
    "print(iris.data.shape)\n",
    "print(selected_data_lr.shape)\n",
    "print(selected_data_gbdt.shape)\n"
   ],
   "metadata": {
    "collapsed": false,
    "pycharm": {
     "name": "#%%\n"
    }
   }
  },
  {
   "cell_type": "code",
   "execution_count": 6,
   "outputs": [
    {
     "name": "stdout",
     "output_type": "stream",
     "text": [
      "     0    1    2    3\n",
      "0  5.1  3.5  1.4  0.2\n",
      "1  4.9  3.0  1.4  0.2\n",
      "2  4.7  3.2  1.3  0.2\n",
      "3  4.6  3.1  1.5  0.2\n",
      "4  5.0  3.6  1.4  0.2\n",
      "     0    1    2\n",
      "0  5.1  3.5  1.4\n",
      "1  4.9  3.0  1.4\n",
      "2  4.7  3.2  1.3\n",
      "3  4.6  3.1  1.5\n",
      "4  5.0  3.6  1.4\n",
      "     0    1\n",
      "0  1.4  0.2\n",
      "1  1.4  0.2\n",
      "2  1.3  0.2\n",
      "3  1.5  0.2\n",
      "4  1.4  0.2\n"
     ]
    },
    {
     "data": {
      "text/plain": "(150, 3)"
     },
     "execution_count": 6,
     "metadata": {},
     "output_type": "execute_result"
    }
   ],
   "source": [
    "a = pd.DataFrame(iris.data)\n",
    "b = pd.DataFrame(np.array(selected_data_lr.data))\n",
    "c = pd.DataFrame(np.array(selected_data_gbdt.data))\n",
    "\n",
    "\n",
    "print(a.head())\n",
    "print(b.head())\n",
    "print(c.head())"
   ],
   "metadata": {
    "collapsed": false,
    "pycharm": {
     "name": "#%%\n"
    }
   }
  },
  {
   "cell_type": "code",
   "execution_count": 13,
   "outputs": [],
   "source": [],
   "metadata": {
    "collapsed": false,
    "pycharm": {
     "name": "#%%\n"
    }
   }
  },
  {
   "cell_type": "code",
   "execution_count": null,
   "outputs": [],
   "source": [],
   "metadata": {
    "collapsed": false,
    "pycharm": {
     "name": "#%%\n"
    }
   }
  }
 ],
 "metadata": {
  "kernelspec": {
   "name": "pycharm-f24f027a",
   "language": "python",
   "display_name": "PyCharm (gitWorkspace)"
  },
  "language_info": {
   "codemirror_mode": {
    "name": "ipython",
    "version": 2
   },
   "file_extension": ".py",
   "mimetype": "text/x-python",
   "name": "python",
   "nbconvert_exporter": "python",
   "pygments_lexer": "ipython2",
   "version": "2.7.6"
  }
 },
 "nbformat": 4,
 "nbformat_minor": 0
}