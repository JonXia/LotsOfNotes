{
 "cells": [
  {
   "cell_type": "code",
   "execution_count": 13,
   "metadata": {},
   "outputs": [],
   "source": [
    "# 导入机器学习常用的包\n",
    "import polars as pl\n",
    "import numpy as np\n",
    "import pandas as pd\n",
    "# 导入逻辑回归分类常用的包\n",
    "\n",
    "from sklearn.model_selection import train_test_split\n",
    "from sklearn.linear_model import LogisticRegression\n",
    "from sklearn.metrics import accuracy_score, classification_report, confusion_matrix\n",
    "path = 'data/'\n",
    "n_rows=100"
   ]
  },
  {
   "cell_type": "code",
   "execution_count": null,
   "metadata": {},
   "outputs": [],
   "source": [
    "# 数据预处理\n",
    "class Pipeline:\n",
    "    @staticmethod\n",
    "    def set_table_dtypes(df):\n",
    "        dtype_mapping = {\n",
    "            \"case_id\": pl.Int32,\n",
    "            \"WEEK_NUM\": pl.Int32,\n",
    "            \"num_group1\": pl.Int32,\n",
    "            \"num_group2\": pl.Int32,\n",
    "            \"date_decision\": pl.Date,\n",
    "        }\n",
    "        for col in df.columns:\n",
    "            if col in dtype_mapping:\n",
    "                df = df.with_columns(pl.col(col).cast(dtype_mapping[col]))\n",
    "            elif col[-1] in (\"P\", \"A\"):\n",
    "                df = df.with_columns(pl.col(col).cast(pl.Float64))\n",
    "            elif col[-1] == \"M\":\n",
    "                df = df.with_columns(pl.col(col).cast(pl.String))\n",
    "            elif col[-1] == \"D\":\n",
    "                df = df.with_columns(pl.col(col).cast(pl.Date))\n",
    "        return df\n",
    "\n",
    "    @staticmethod\n",
    "    def handle_dates(df):\n",
    "        # 确保 date_decision 列是日期类型\n",
    "        if df['date_decision'].dtype == pl.String:\n",
    "            df = df.with_columns(\n",
    "                pl.col('date_decision').str.strptime(pl.Date, format='%Y-%m-%d', strict=False)\n",
    "            )\n",
    "        \n",
    "        # 处理可能存在的无效日期\n",
    "        df = df.filter(pl.col('date_decision').is_not_null())\n",
    "\n",
    "        # 获取所有以 'D' 结尾的列\n",
    "        date_cols = [col for col in df.columns if col[-1] == \"D\"]\n",
    "        \n",
    "        for col in date_cols:\n",
    "            # 确保所有日期列是日期类型\n",
    "            if df[col].dtype == pl.String:\n",
    "                df = df.with_columns(\n",
    "                    pl.col(col).str.strptime(pl.Date, format='%Y-%m-%d', strict=False)\n",
    "                )\n",
    "            \n",
    "            # 过滤掉无效的日期\n",
    "            df = df.filter(pl.col(col).is_not_null())\n",
    "            \n",
    "            # 计算与 date_decision 的天数差\n",
    "            df = df.with_columns(\n",
    "                (pl.col(col) - pl.col(\"date_decision\")).alias(col)\n",
    "            ).with_columns(\n",
    "                pl.col(col).dt.total_days().cast(pl.Float32).alias(col)\n",
    "            )\n",
    "        \n",
    "        # 删除不再需要的列\n",
    "        df = df.drop([\"date_decision\", \"MONTH\"])\n",
    "        return df\n",
    "    @staticmethod\n",
    "    def filter_cols(df):\n",
    "        # 调试信息：检查初始数据形状\n",
    "        print(\"Initial df shape before filtering:\", df.shape)\n",
    "\n",
    "        # 将 None 转换为 NaN，以便后续处理\n",
    "        df = df.fill_nan(None)\n",
    "\n",
    "        # 计算每列的空值比例\n",
    "        null_ratio = df.select([pl.col(col).is_null().mean().alias(col) for col in df.columns])\n",
    "        high_null_cols = [col for col in null_ratio.columns if null_ratio[col][0] > 0.95 and col not in [\"target\", \"case_id\", \"WEEK_NUM\"]]\n",
    "        df = df.drop(high_null_cols)\n",
    "\n",
    "        # 调试信息：检查删除高缺失率列后的数据形状\n",
    "        print(\"df shape after dropping high null columns:\", df.shape)\n",
    "\n",
    "        # 处理字符串列\n",
    "        string_cols = [col for col in df.columns if df[col].dtype == pl.String]\n",
    "        for col in string_cols:\n",
    "            if col not in [\"target\", \"case_id\", \"WEEK_NUM\"]:\n",
    "                freq = df[col].n_unique()\n",
    "                if freq == 1 or freq > 200:\n",
    "                    df = df.drop(col)\n",
    "\n",
    "        # 调试信息：检查删除高唯一值字符串列后的数据形状\n",
    "        print(\"df shape after dropping high unique value string columns:\", df.shape)\n",
    "\n",
    "        # 确保所有数值列被正确转换\n",
    "        for col in df.columns:\n",
    "            if col not in [\"target\", \"case_id\", \"WEEK_NUM\"] and df[col].dtype in [pl.Float64, pl.Float32, pl.Int32, pl.Int64]:\n",
    "                df = df.with_columns(pl.col(col).fill_nan(0).cast(pl.Float32))\n",
    "\n",
    "        # 调试信息：检查最终数据形状\n",
    "        print(\"Final df shape after all filters:\", df.shape)\n",
    "\n",
    "        return df"
   ]
  },
  {
   "cell_type": "code",
   "execution_count": 1,
   "metadata": {},
   "outputs": [
    {
     "name": "stdout",
     "output_type": "stream",
     "text": [
      "Accuracy: 0.00\n"
     ]
    }
   ],
   "source": [
    "import pandas as pd\n",
    "from sklearn.preprocessing import OneHotEncoder\n",
    "from sklearn.linear_model import LogisticRegression\n",
    "from sklearn.model_selection import train_test_split\n",
    "from sklearn.metrics import accuracy_score\n",
    "\n",
    "# 创建示例 DataFrame\n",
    "data = {\n",
    "    'Feature1': ['A', 'B', 'C', 'A', 'B'],\n",
    "    'Feature2': [1, 2, 3, 4, 5],\n",
    "    'Target': [0, 1, 0, 1, 0]\n",
    "}\n",
    "\n",
    "df = pd.DataFrame(data)\n",
    "\n",
    "# 初始化 OneHotEncoder\n",
    "one_hot_encoder = OneHotEncoder(sparse=False)\n",
    "\n",
    "# 应用独热编码\n",
    "encoded_data = one_hot_encoder.fit_transform(df[['Feature1']])\n",
    "encoded_df = pd.DataFrame(encoded_data, columns=one_hot_encoder.get_feature_names_out(['Feature1']))\n",
    "df_encoded = pd.concat([df[['Feature2']], encoded_df], axis=1)\n",
    "\n",
    "# 定义特征和目标变量\n",
    "X = df_encoded\n",
    "y = df['Target']\n",
    "\n",
    "# 分割数据集\n",
    "X_train, X_test, y_train, y_test = train_test_split(X, y, test_size=0.2, random_state=42)\n",
    "\n",
    "# 训练逻辑回归模型\n",
    "logreg = LogisticRegression()\n",
    "logreg.fit(X_train, y_train)\n",
    "\n",
    "# 预测\n",
    "y_pred = logreg.predict(X_test)\n",
    "\n",
    "# 评估模型\n",
    "accuracy = accuracy_score(y_test, y_pred)\n",
    "print(f\"Accuracy: {accuracy:.2f}\")"
   ]
  },
  {
   "cell_type": "code",
   "execution_count": 6,
   "metadata": {},
   "outputs": [
    {
     "data": {
      "text/plain": [
       "array([[1., 0., 0.],\n",
       "       [0., 1., 0.],\n",
       "       [0., 0., 1.],\n",
       "       [1., 0., 0.],\n",
       "       [0., 1., 0.]])"
      ]
     },
     "execution_count": 6,
     "metadata": {},
     "output_type": "execute_result"
    }
   ],
   "source": [
    "encoded_data"
   ]
  },
  {
   "cell_type": "code",
   "execution_count": 14,
   "metadata": {},
   "outputs": [],
   "source": [
    "train_base = pl.read_parquet(path+'parquet_files/train/train_base.parquet')# 其他表要连接到这个训练主表\n",
    "# test_base = pl.read_parquet(path+'parquet_files/test/test_base.parquet')"
   ]
  },
  {
   "cell_type": "code",
   "execution_count": 15,
   "metadata": {},
   "outputs": [],
   "source": [
    "train_static = pl.concat(\n",
    "    [\n",
    "        pl.read_parquet(path + \"parquet_files/train/\"+ \"train_static_0_0.parquet\"),\n",
    "        pl.read_parquet(path + \"parquet_files/train/\"+ \"train_static_0_1.parquet\")\n",
    "    ]\n",
    ")"
   ]
  },
  {
   "cell_type": "code",
   "execution_count": 16,
   "metadata": {},
   "outputs": [
    {
     "data": {
      "text/html": [
       "<div><style>\n",
       ".dataframe > thead > tr,\n",
       ".dataframe > tbody > tr {\n",
       "  text-align: right;\n",
       "  white-space: pre-wrap;\n",
       "}\n",
       "</style>\n",
       "<small>shape: (5, 168)</small><table border=\"1\" class=\"dataframe\"><thead><tr><th>case_id</th><th>actualdpdtolerance_344P</th><th>amtinstpaidbefduel24m_4187115A</th><th>annuity_780A</th><th>annuitynextmonth_57A</th><th>applicationcnt_361L</th><th>applications30d_658L</th><th>applicationscnt_1086L</th><th>applicationscnt_464L</th><th>applicationscnt_629L</th><th>applicationscnt_867L</th><th>avgdbddpdlast24m_3658932P</th><th>avgdbddpdlast3m_4187120P</th><th>avgdbdtollast24m_4525197P</th><th>avgdpdtolclosure24_3658938P</th><th>avginstallast24m_3658937A</th><th>avglnamtstart24m_4525187A</th><th>avgmaxdpdlast9m_3716943P</th><th>avgoutstandbalancel6m_4187114A</th><th>avgpmtlast12m_4525200A</th><th>bankacctype_710L</th><th>cardtype_51L</th><th>clientscnt12m_3712952L</th><th>clientscnt3m_3712950L</th><th>clientscnt6m_3712949L</th><th>clientscnt_100L</th><th>clientscnt_1022L</th><th>clientscnt_1071L</th><th>clientscnt_1130L</th><th>clientscnt_136L</th><th>clientscnt_157L</th><th>clientscnt_257L</th><th>clientscnt_304L</th><th>clientscnt_360L</th><th>clientscnt_493L</th><th>clientscnt_533L</th><th>clientscnt_887L</th><th>&hellip;</th><th>numinstpaidearlyest_4493214L</th><th>numinstpaidlastcontr_4325080L</th><th>numinstpaidlate1d_3546852L</th><th>numinstregularpaid_973L</th><th>numinstregularpaidest_4493210L</th><th>numinsttopaygr_769L</th><th>numinsttopaygrest_4493213L</th><th>numinstunpaidmax_3546851L</th><th>numinstunpaidmaxest_4493212L</th><th>numnotactivated_1143L</th><th>numpmtchanneldd_318L</th><th>numrejects9m_859L</th><th>opencred_647L</th><th>paytype1st_925L</th><th>paytype_783L</th><th>payvacationpostpone_4187118D</th><th>pctinstlsallpaidearl3d_427L</th><th>pctinstlsallpaidlat10d_839L</th><th>pctinstlsallpaidlate1d_3546856L</th><th>pctinstlsallpaidlate4d_3546849L</th><th>pctinstlsallpaidlate6d_3546844L</th><th>pmtnum_254L</th><th>posfpd10lastmonth_333P</th><th>posfpd30lastmonth_3976960P</th><th>posfstqpd30lastmonth_3976962P</th><th>previouscontdistrict_112M</th><th>price_1097A</th><th>sellerplacecnt_915L</th><th>sellerplacescnt_216L</th><th>sumoutstandtotal_3546847A</th><th>sumoutstandtotalest_4493215A</th><th>totaldebt_9A</th><th>totalsettled_863A</th><th>totinstallast1m_4525188A</th><th>twobodfilling_608L</th><th>typesuite_864L</th><th>validfrom_1069D</th></tr><tr><td>i64</td><td>f64</td><td>f64</td><td>f64</td><td>f64</td><td>f64</td><td>f64</td><td>f64</td><td>f64</td><td>f64</td><td>f64</td><td>f64</td><td>f64</td><td>f64</td><td>f64</td><td>f64</td><td>f64</td><td>f64</td><td>f64</td><td>f64</td><td>str</td><td>str</td><td>f64</td><td>f64</td><td>f64</td><td>f64</td><td>f64</td><td>f64</td><td>f64</td><td>f64</td><td>f64</td><td>f64</td><td>f64</td><td>f64</td><td>f64</td><td>f64</td><td>f64</td><td>&hellip;</td><td>f64</td><td>f64</td><td>f64</td><td>f64</td><td>f64</td><td>f64</td><td>f64</td><td>f64</td><td>f64</td><td>f64</td><td>f64</td><td>f64</td><td>bool</td><td>str</td><td>str</td><td>str</td><td>f64</td><td>f64</td><td>f64</td><td>f64</td><td>f64</td><td>f64</td><td>f64</td><td>f64</td><td>f64</td><td>str</td><td>f64</td><td>f64</td><td>f64</td><td>f64</td><td>f64</td><td>f64</td><td>f64</td><td>f64</td><td>str</td><td>str</td><td>str</td></tr></thead><tbody><tr><td>0</td><td>null</td><td>null</td><td>1917.6</td><td>0.0</td><td>0.0</td><td>0.0</td><td>0.0</td><td>0.0</td><td>0.0</td><td>0.0</td><td>null</td><td>null</td><td>null</td><td>null</td><td>null</td><td>null</td><td>null</td><td>null</td><td>null</td><td>null</td><td>null</td><td>0.0</td><td>0.0</td><td>0.0</td><td>0.0</td><td>0.0</td><td>0.0</td><td>0.0</td><td>null</td><td>0.0</td><td>0.0</td><td>0.0</td><td>0.0</td><td>0.0</td><td>0.0</td><td>0.0</td><td>&hellip;</td><td>null</td><td>null</td><td>null</td><td>null</td><td>null</td><td>null</td><td>null</td><td>null</td><td>null</td><td>0.0</td><td>0.0</td><td>0.0</td><td>null</td><td>&quot;OTHER&quot;</td><td>&quot;OTHER&quot;</td><td>null</td><td>null</td><td>null</td><td>null</td><td>null</td><td>null</td><td>24.0</td><td>0.0</td><td>0.0</td><td>null</td><td>&quot;a55475b1&quot;</td><td>null</td><td>0.0</td><td>0.0</td><td>null</td><td>null</td><td>0.0</td><td>0.0</td><td>null</td><td>&quot;BO&quot;</td><td>null</td><td>null</td></tr><tr><td>1</td><td>null</td><td>null</td><td>3134.0</td><td>0.0</td><td>0.0</td><td>0.0</td><td>0.0</td><td>0.0</td><td>0.0</td><td>0.0</td><td>null</td><td>null</td><td>null</td><td>null</td><td>null</td><td>null</td><td>null</td><td>null</td><td>null</td><td>null</td><td>null</td><td>0.0</td><td>0.0</td><td>0.0</td><td>0.0</td><td>0.0</td><td>0.0</td><td>0.0</td><td>0.0</td><td>3.0</td><td>0.0</td><td>0.0</td><td>0.0</td><td>0.0</td><td>0.0</td><td>0.0</td><td>&hellip;</td><td>null</td><td>null</td><td>null</td><td>null</td><td>null</td><td>null</td><td>null</td><td>null</td><td>null</td><td>0.0</td><td>0.0</td><td>0.0</td><td>null</td><td>&quot;OTHER&quot;</td><td>&quot;OTHER&quot;</td><td>null</td><td>null</td><td>null</td><td>null</td><td>null</td><td>null</td><td>18.0</td><td>0.0</td><td>0.0</td><td>null</td><td>&quot;a55475b1&quot;</td><td>null</td><td>0.0</td><td>0.0</td><td>null</td><td>null</td><td>0.0</td><td>0.0</td><td>null</td><td>&quot;BO&quot;</td><td>null</td><td>null</td></tr><tr><td>2</td><td>null</td><td>null</td><td>4937.0</td><td>0.0</td><td>0.0</td><td>0.0</td><td>0.0</td><td>0.0</td><td>0.0</td><td>0.0</td><td>null</td><td>null</td><td>null</td><td>null</td><td>null</td><td>null</td><td>null</td><td>null</td><td>null</td><td>null</td><td>null</td><td>0.0</td><td>0.0</td><td>0.0</td><td>0.0</td><td>0.0</td><td>0.0</td><td>0.0</td><td>null</td><td>0.0</td><td>0.0</td><td>0.0</td><td>0.0</td><td>0.0</td><td>0.0</td><td>0.0</td><td>&hellip;</td><td>null</td><td>null</td><td>null</td><td>null</td><td>null</td><td>null</td><td>null</td><td>null</td><td>null</td><td>0.0</td><td>0.0</td><td>0.0</td><td>false</td><td>&quot;OTHER&quot;</td><td>&quot;OTHER&quot;</td><td>null</td><td>null</td><td>null</td><td>null</td><td>null</td><td>null</td><td>36.0</td><td>0.0</td><td>0.0</td><td>null</td><td>&quot;a55475b1&quot;</td><td>null</td><td>0.0</td><td>0.0</td><td>null</td><td>null</td><td>0.0</td><td>0.0</td><td>null</td><td>&quot;BO&quot;</td><td>&quot;AL&quot;</td><td>null</td></tr><tr><td>3</td><td>null</td><td>null</td><td>4643.6</td><td>0.0</td><td>0.0</td><td>1.0</td><td>0.0</td><td>2.0</td><td>0.0</td><td>1.0</td><td>null</td><td>null</td><td>null</td><td>null</td><td>null</td><td>null</td><td>null</td><td>null</td><td>null</td><td>null</td><td>null</td><td>0.0</td><td>0.0</td><td>0.0</td><td>0.0</td><td>0.0</td><td>0.0</td><td>1.0</td><td>null</td><td>0.0</td><td>0.0</td><td>0.0</td><td>0.0</td><td>0.0</td><td>0.0</td><td>0.0</td><td>&hellip;</td><td>null</td><td>null</td><td>null</td><td>null</td><td>null</td><td>null</td><td>null</td><td>null</td><td>null</td><td>0.0</td><td>0.0</td><td>1.0</td><td>false</td><td>&quot;OTHER&quot;</td><td>&quot;OTHER&quot;</td><td>null</td><td>null</td><td>null</td><td>null</td><td>null</td><td>null</td><td>12.0</td><td>0.0</td><td>0.0</td><td>null</td><td>&quot;a55475b1&quot;</td><td>null</td><td>1.0</td><td>1.0</td><td>null</td><td>null</td><td>0.0</td><td>0.0</td><td>null</td><td>&quot;BO&quot;</td><td>&quot;AL&quot;</td><td>null</td></tr><tr><td>4</td><td>null</td><td>null</td><td>3390.2</td><td>0.0</td><td>0.0</td><td>1.0</td><td>0.0</td><td>0.0</td><td>0.0</td><td>1.0</td><td>null</td><td>null</td><td>null</td><td>null</td><td>null</td><td>null</td><td>null</td><td>null</td><td>null</td><td>null</td><td>null</td><td>0.0</td><td>0.0</td><td>0.0</td><td>0.0</td><td>0.0</td><td>0.0</td><td>0.0</td><td>null</td><td>0.0</td><td>0.0</td><td>0.0</td><td>0.0</td><td>0.0</td><td>0.0</td><td>0.0</td><td>&hellip;</td><td>null</td><td>null</td><td>null</td><td>null</td><td>null</td><td>null</td><td>null</td><td>null</td><td>null</td><td>0.0</td><td>0.0</td><td>0.0</td><td>false</td><td>&quot;OTHER&quot;</td><td>&quot;OTHER&quot;</td><td>null</td><td>null</td><td>null</td><td>null</td><td>null</td><td>null</td><td>24.0</td><td>0.0</td><td>0.0</td><td>null</td><td>&quot;a55475b1&quot;</td><td>null</td><td>0.0</td><td>0.0</td><td>null</td><td>null</td><td>0.0</td><td>0.0</td><td>null</td><td>&quot;BO&quot;</td><td>&quot;AL&quot;</td><td>null</td></tr></tbody></table></div>"
      ],
      "text/plain": [
       "shape: (5, 168)\n",
       "┌─────────┬────────────┬───────────┬───────────┬───┬───────────┬───────────┬───────────┬───────────┐\n",
       "│ case_id ┆ actualdpdt ┆ amtinstpa ┆ annuity_7 ┆ … ┆ totinstal ┆ twobodfil ┆ typesuite ┆ validfrom │\n",
       "│ ---     ┆ olerance_3 ┆ idbefduel ┆ 80A       ┆   ┆ last1m_45 ┆ ling_608L ┆ _864L     ┆ _1069D    │\n",
       "│ i64     ┆ 44P        ┆ 24m_41871 ┆ ---       ┆   ┆ 25188A    ┆ ---       ┆ ---       ┆ ---       │\n",
       "│         ┆ ---        ┆ 15A       ┆ f64       ┆   ┆ ---       ┆ str       ┆ str       ┆ str       │\n",
       "│         ┆ f64        ┆ ---       ┆           ┆   ┆ f64       ┆           ┆           ┆           │\n",
       "│         ┆            ┆ f64       ┆           ┆   ┆           ┆           ┆           ┆           │\n",
       "╞═════════╪════════════╪═══════════╪═══════════╪═══╪═══════════╪═══════════╪═══════════╪═══════════╡\n",
       "│ 0       ┆ null       ┆ null      ┆ 1917.6    ┆ … ┆ null      ┆ BO        ┆ null      ┆ null      │\n",
       "│ 1       ┆ null       ┆ null      ┆ 3134.0    ┆ … ┆ null      ┆ BO        ┆ null      ┆ null      │\n",
       "│ 2       ┆ null       ┆ null      ┆ 4937.0    ┆ … ┆ null      ┆ BO        ┆ AL        ┆ null      │\n",
       "│ 3       ┆ null       ┆ null      ┆ 4643.6    ┆ … ┆ null      ┆ BO        ┆ AL        ┆ null      │\n",
       "│ 4       ┆ null       ┆ null      ┆ 3390.2    ┆ … ┆ null      ┆ BO        ┆ AL        ┆ null      │\n",
       "└─────────┴────────────┴───────────┴───────────┴───┴───────────┴───────────┴───────────┴───────────┘"
      ]
     },
     "execution_count": 16,
     "metadata": {},
     "output_type": "execute_result"
    }
   ],
   "source": [
    "train_static.head()"
   ]
  },
  {
   "cell_type": "code",
   "execution_count": null,
   "metadata": {},
   "outputs": [],
   "source": [
    "#也可对每张表的列去重\n",
    "# 每个文件先导进来\n",
    "# 同一张表先拼接上\n",
    "# 每种表有什么特征\n",
    "# 表互相怎么连接\n",
    "# 把表有必要的部分连接到base表上\n",
    "# 然后EDA 分析\n",
    "# 除了主表外，还有9张数据表+两张说明表\n",
    "\n",
    "# applprev,\n",
    "# credit_bureau,\n",
    "# debitcard,\n",
    "# deposit,\n",
    "# other,\n",
    "# person,\n",
    "# static,\n",
    "# static_cb_0,\n",
    "# tax_registry"
   ]
  },
  {
   "cell_type": "code",
   "execution_count": null,
   "metadata": {},
   "outputs": [],
   "source": []
  },
  {
   "cell_type": "code",
   "execution_count": 5,
   "metadata": {},
   "outputs": [],
   "source": [
    "# # Merging `train_static`\n",
    "# train_static = pl.concat(\n",
    "#     [\n",
    "#         pl.read_parquet(path + \"parquet_files/train/\"+ \"train_static_0_0.parquet\"),\n",
    "#         pl.read_parquet(path + \"parquet_files/train/\"+ \"train_static_0_1.parquet\")\n",
    "#     ]\n",
    "# )\n",
    "\n",
    "# # Merging `train_applprev`\n",
    "# train_applprev = pl.concat(\n",
    "#     [\n",
    "#         pl.read_parquet(path + \"parquet_files/train/\"+ \"train_applprev_1_0.parquet\"),\n",
    "#         pl.read_parquet(path + \"parquet_files/train/\"+ \"train_applprev_1_1.parquet\"),\n",
    "#         pl.read_parquet(path + \"parquet_files/train/\"+ \"train_applprev_2.parquet\")\n",
    "#     ]\n",
    "# )\n",
    "\n",
    "# # Merging `train_credit_bureau_a`\n",
    "# train_credit_bureau_a = pl.concat(\n",
    "#     [\n",
    "#         pl.read_parquet(path + \"parquet_files/train/\"+ \"train_credit_bureau_a_1_0.parquet\"),\n",
    "#         pl.read_parquet(path + \"parquet_files/train/\"+ \"train_credit_bureau_a_1_1.parquet\"),\n",
    "#         pl.read_parquet(path + \"parquet_files/train/\"+ \"train_credit_bureau_a_2_0.parquet\"),\n",
    "#         pl.read_parquet(path + \"parquet_files/train/\"+ \"train_credit_bureau_a_2_1.parquet\"),\n",
    "#         pl.read_parquet(path + \"parquet_files/train/\"+ \"train_credit_bureau_a_2_2.parquet\"),\n",
    "#         pl.read_parquet(path + \"parquet_files/train/\"+ \"train_credit_bureau_a_2_3.parquet\"),\n",
    "#         pl.read_parquet(path + \"parquet_files/train/\"+ \"train_credit_bureau_a_2_4.parquet\"),\n",
    "#         pl.read_parquet(path + \"parquet_files/train/\"+ \"train_credit_bureau_a_2_5.parquet\"),\n",
    "#         pl.read_parquet(path + \"parquet_files/train/\"+ \"train_credit_bureau_a_2_6.parquet\"),\n",
    "#         pl.read_parquet(path + \"parquet_files/train/\"+ \"train_credit_bureau_a_2_7.parquet\"),\n",
    "#         pl.read_parquet(path + \"parquet_files/train/\"+ \"train_credit_bureau_a_2_8.parquet\"),\n",
    "#         pl.read_parquet(path + \"parquet_files/train/\"+ \"train_credit_bureau_a_2_9.parquet\"),\n",
    "#         pl.read_parquet(path + \"parquet_files/train/\"+ \"train_credit_bureau_a_2_10.parquet\")\n",
    "#     ]\n",
    "# )\n",
    "\n",
    "# # Merging `train_credit_bureau_b`\n",
    "# train_credit_bureau_b = pl.concat(\n",
    "#     [\n",
    "#         pl.read_parquet(path + \"parquet_files/train/\"+ \"train_credit_bureau_b_1.parquet\"),\n",
    "#         pl.read_parquet(path + \"parquet_files/train/\"+ \"train_credit_bureau_b_2.parquet\")\n",
    "#     ]\n",
    "# )\n",
    "\n",
    "# # Merging `train_person`\n",
    "# train_person = pl.concat(\n",
    "#     [\n",
    "#         pl.read_parquet(path + \"parquet_files/train/\"+ \"train_person_1.parquet\"),\n",
    "#         pl.read_parquet(path + \"parquet_files/train/\"+ \"train_person_2.parquet\")\n",
    "#     ]\n",
    "# )\n",
    "\n",
    "# # Loading other single files without concatenation\n",
    "# train_base = pl.read_parquet(path + \"parquet_files/train/\"+ \"train_base.parquet\")\n",
    "# train_debitcard = pl.read_parquet(path + \"parquet_files/train/\"+ \"train_debitcard_1.parquet\")\n",
    "# train_deposit = pl.read_parquet(path + \"parquet_files/train/\"+ \"train_deposit_1.parquet\")\n",
    "# train_other = pl.read_parquet(path + \"parquet_files/train/\"+ \"train_other_1.parquet\")\n",
    "\n",
    "# # Merging `train_tax_registry`\n",
    "# train_tax_registry = pl.concat(\n",
    "#     [\n",
    "#         pl.read_parquet(path + \"parquet_files/train/\"+ \"train_tax_registry_a_1.parquet\"),\n",
    "#         pl.read_parquet(path + \"parquet_files/train/\"+ \"train_tax_registry_b_1.parquet\"),\n",
    "#         pl.read_parquet(path + \"parquet_files/train/\"+ \"train_tax_registry_c_1.parquet\")\n",
    "#     ]\n",
    "# )\n",
    "\n",
    "# # Merging `train_static_cb`\n",
    "# train_static_cb = pl.read_parquet(path + \"parquet_files/train/\"+ \"train_static_cb_0.parquet\")\n",
    "\n"
   ]
  },
  {
   "cell_type": "code",
   "execution_count": 8,
   "metadata": {},
   "outputs": [
    {
     "ename": "ShapeError",
     "evalue": "unable to append to a DataFrame of width 41 with a DataFrame of width 6",
     "output_type": "error",
     "traceback": [
      "\u001b[1;31m---------------------------------------------------------------------------\u001b[0m",
      "\u001b[1;31mShapeError\u001b[0m                                Traceback (most recent call last)",
      "Cell \u001b[1;32mIn[8], line 2\u001b[0m\n\u001b[0;32m      1\u001b[0m train_static_cb \u001b[38;5;241m=\u001b[39m pl\u001b[38;5;241m.\u001b[39mread_parquet(path \u001b[38;5;241m+\u001b[39m \u001b[38;5;124m\"\u001b[39m\u001b[38;5;124mparquet_files/train/\u001b[39m\u001b[38;5;124m\"\u001b[39m\u001b[38;5;241m+\u001b[39m \u001b[38;5;124m\"\u001b[39m\u001b[38;5;124mtrain_static_cb_0.parquet\u001b[39m\u001b[38;5;124m\"\u001b[39m)\n\u001b[1;32m----> 2\u001b[0m train_applprev \u001b[38;5;241m=\u001b[39m \u001b[43mpl\u001b[49m\u001b[38;5;241;43m.\u001b[39;49m\u001b[43mconcat\u001b[49m\u001b[43m(\u001b[49m\n\u001b[0;32m      3\u001b[0m \u001b[43m    \u001b[49m\u001b[43m[\u001b[49m\n\u001b[0;32m      4\u001b[0m \u001b[43m        \u001b[49m\u001b[43mpl\u001b[49m\u001b[38;5;241;43m.\u001b[39;49m\u001b[43mread_parquet\u001b[49m\u001b[43m(\u001b[49m\u001b[43mpath\u001b[49m\u001b[43m \u001b[49m\u001b[38;5;241;43m+\u001b[39;49m\u001b[43m \u001b[49m\u001b[38;5;124;43m\"\u001b[39;49m\u001b[38;5;124;43mparquet_files/train/\u001b[39;49m\u001b[38;5;124;43m\"\u001b[39;49m\u001b[38;5;241;43m+\u001b[39;49m\u001b[43m \u001b[49m\u001b[38;5;124;43m\"\u001b[39;49m\u001b[38;5;124;43mtrain_applprev_1_0.parquet\u001b[39;49m\u001b[38;5;124;43m\"\u001b[39;49m\u001b[43m)\u001b[49m\u001b[43m,\u001b[49m\n\u001b[0;32m      5\u001b[0m \u001b[43m        \u001b[49m\u001b[43mpl\u001b[49m\u001b[38;5;241;43m.\u001b[39;49m\u001b[43mread_parquet\u001b[49m\u001b[43m(\u001b[49m\u001b[43mpath\u001b[49m\u001b[43m \u001b[49m\u001b[38;5;241;43m+\u001b[39;49m\u001b[43m \u001b[49m\u001b[38;5;124;43m\"\u001b[39;49m\u001b[38;5;124;43mparquet_files/train/\u001b[39;49m\u001b[38;5;124;43m\"\u001b[39;49m\u001b[38;5;241;43m+\u001b[39;49m\u001b[43m \u001b[49m\u001b[38;5;124;43m\"\u001b[39;49m\u001b[38;5;124;43mtrain_applprev_1_1.parquet\u001b[39;49m\u001b[38;5;124;43m\"\u001b[39;49m\u001b[43m)\u001b[49m\u001b[43m,\u001b[49m\n\u001b[0;32m      6\u001b[0m \u001b[43m        \u001b[49m\u001b[43mpl\u001b[49m\u001b[38;5;241;43m.\u001b[39;49m\u001b[43mread_parquet\u001b[49m\u001b[43m(\u001b[49m\u001b[43mpath\u001b[49m\u001b[43m \u001b[49m\u001b[38;5;241;43m+\u001b[39;49m\u001b[43m \u001b[49m\u001b[38;5;124;43m\"\u001b[39;49m\u001b[38;5;124;43mparquet_files/train/\u001b[39;49m\u001b[38;5;124;43m\"\u001b[39;49m\u001b[38;5;241;43m+\u001b[39;49m\u001b[43m \u001b[49m\u001b[38;5;124;43m\"\u001b[39;49m\u001b[38;5;124;43mtrain_applprev_2.parquet\u001b[39;49m\u001b[38;5;124;43m\"\u001b[39;49m\u001b[43m)\u001b[49m\n\u001b[0;32m      7\u001b[0m \u001b[43m    \u001b[49m\u001b[43m]\u001b[49m\n\u001b[0;32m      8\u001b[0m \u001b[43m)\u001b[49m\n",
      "File \u001b[1;32md:\\myenv\\anaconda\\lib\\site-packages\\polars\\functions\\eager.py:182\u001b[0m, in \u001b[0;36mconcat\u001b[1;34m(items, how, rechunk, parallel)\u001b[0m\n\u001b[0;32m    180\u001b[0m \u001b[38;5;28;01mif\u001b[39;00m \u001b[38;5;28misinstance\u001b[39m(first, pl\u001b[38;5;241m.\u001b[39mDataFrame):\n\u001b[0;32m    181\u001b[0m     \u001b[38;5;28;01mif\u001b[39;00m how \u001b[38;5;241m==\u001b[39m \u001b[38;5;124m\"\u001b[39m\u001b[38;5;124mvertical\u001b[39m\u001b[38;5;124m\"\u001b[39m:\n\u001b[1;32m--> 182\u001b[0m         out \u001b[38;5;241m=\u001b[39m wrap_df(\u001b[43mplr\u001b[49m\u001b[38;5;241;43m.\u001b[39;49m\u001b[43mconcat_df\u001b[49m\u001b[43m(\u001b[49m\u001b[43melems\u001b[49m\u001b[43m)\u001b[49m)\n\u001b[0;32m    183\u001b[0m     \u001b[38;5;28;01melif\u001b[39;00m how \u001b[38;5;241m==\u001b[39m \u001b[38;5;124m\"\u001b[39m\u001b[38;5;124mvertical_relaxed\u001b[39m\u001b[38;5;124m\"\u001b[39m:\n\u001b[0;32m    184\u001b[0m         out \u001b[38;5;241m=\u001b[39m wrap_ldf(\n\u001b[0;32m    185\u001b[0m             plr\u001b[38;5;241m.\u001b[39mconcat_lf(\n\u001b[0;32m    186\u001b[0m                 [df\u001b[38;5;241m.\u001b[39mlazy() \u001b[38;5;28;01mfor\u001b[39;00m df \u001b[38;5;129;01min\u001b[39;00m elems],\n\u001b[1;32m   (...)\u001b[0m\n\u001b[0;32m    190\u001b[0m             )\n\u001b[0;32m    191\u001b[0m         )\u001b[38;5;241m.\u001b[39mcollect(no_optimization\u001b[38;5;241m=\u001b[39m\u001b[38;5;28;01mTrue\u001b[39;00m)\n",
      "\u001b[1;31mShapeError\u001b[0m: unable to append to a DataFrame of width 41 with a DataFrame of width 6"
     ]
    }
   ],
   "source": [
    "train_static_cb = pl.read_parquet(path + \"parquet_files/train/\"+ \"train_static_cb_0.parquet\")\n",
    "train_applprev = pl.concat(\n",
    "    [\n",
    "        pl.read_parquet(path + \"parquet_files/train/\"+ \"train_applprev_1_0.parquet\"),\n",
    "        pl.read_parquet(path + \"parquet_files/train/\"+ \"train_applprev_1_1.parquet\"),\n",
    "        pl.read_parquet(path + \"parquet_files/train/\"+ \"train_applprev_2.parquet\")\n",
    "    ]\n",
    ")"
   ]
  },
  {
   "cell_type": "code",
   "execution_count": 7,
   "metadata": {},
   "outputs": [
    {
     "data": {
      "text/html": [
       "<div><style>\n",
       ".dataframe > thead > tr,\n",
       ".dataframe > tbody > tr {\n",
       "  text-align: right;\n",
       "  white-space: pre-wrap;\n",
       "}\n",
       "</style>\n",
       "<small>shape: (5, 53)</small><table border=\"1\" class=\"dataframe\"><thead><tr><th>case_id</th><th>assignmentdate_238D</th><th>assignmentdate_4527235D</th><th>assignmentdate_4955616D</th><th>birthdate_574D</th><th>contractssum_5085716L</th><th>dateofbirth_337D</th><th>dateofbirth_342D</th><th>days120_123L</th><th>days180_256L</th><th>days30_165L</th><th>days360_512L</th><th>days90_310L</th><th>description_5085714M</th><th>education_1103M</th><th>education_88M</th><th>firstquarter_103L</th><th>for3years_128L</th><th>for3years_504L</th><th>for3years_584L</th><th>formonth_118L</th><th>formonth_206L</th><th>formonth_535L</th><th>forquarter_1017L</th><th>forquarter_462L</th><th>forquarter_634L</th><th>fortoday_1092L</th><th>forweek_1077L</th><th>forweek_528L</th><th>forweek_601L</th><th>foryear_618L</th><th>foryear_818L</th><th>foryear_850L</th><th>fourthquarter_440L</th><th>maritalst_385M</th><th>maritalst_893M</th><th>numberofqueries_373L</th><th>pmtaverage_3A</th><th>pmtaverage_4527227A</th><th>pmtaverage_4955615A</th><th>pmtcount_4527229L</th><th>pmtcount_4955617L</th><th>pmtcount_693L</th><th>pmtscount_423L</th><th>pmtssum_45A</th><th>requesttype_4525192L</th><th>responsedate_1012D</th><th>responsedate_4527233D</th><th>responsedate_4917613D</th><th>riskassesment_302T</th><th>riskassesment_940T</th><th>secondquarter_766L</th><th>thirdquarter_1082L</th></tr><tr><td>i64</td><td>str</td><td>str</td><td>str</td><td>str</td><td>f64</td><td>str</td><td>str</td><td>f64</td><td>f64</td><td>f64</td><td>f64</td><td>f64</td><td>str</td><td>str</td><td>str</td><td>f64</td><td>f64</td><td>f64</td><td>f64</td><td>f64</td><td>f64</td><td>f64</td><td>f64</td><td>f64</td><td>f64</td><td>f64</td><td>f64</td><td>f64</td><td>f64</td><td>f64</td><td>f64</td><td>f64</td><td>f64</td><td>str</td><td>str</td><td>f64</td><td>f64</td><td>f64</td><td>f64</td><td>f64</td><td>f64</td><td>f64</td><td>f64</td><td>f64</td><td>str</td><td>str</td><td>str</td><td>str</td><td>str</td><td>f64</td><td>f64</td><td>f64</td></tr></thead><tbody><tr><td>357</td><td>null</td><td>null</td><td>null</td><td>&quot;1988-04-01&quot;</td><td>null</td><td>null</td><td>null</td><td>null</td><td>null</td><td>null</td><td>null</td><td>null</td><td>&quot;a55475b1&quot;</td><td>&quot;a55475b1&quot;</td><td>&quot;a55475b1&quot;</td><td>null</td><td>null</td><td>null</td><td>null</td><td>null</td><td>null</td><td>null</td><td>null</td><td>null</td><td>null</td><td>null</td><td>null</td><td>null</td><td>null</td><td>null</td><td>null</td><td>null</td><td>null</td><td>&quot;a55475b1&quot;</td><td>&quot;a55475b1&quot;</td><td>null</td><td>null</td><td>null</td><td>null</td><td>null</td><td>null</td><td>null</td><td>6.0</td><td>6301.4</td><td>null</td><td>&quot;2019-01-25&quot;</td><td>null</td><td>null</td><td>null</td><td>null</td><td>null</td><td>null</td></tr><tr><td>381</td><td>null</td><td>null</td><td>null</td><td>&quot;1973-11-01&quot;</td><td>null</td><td>null</td><td>null</td><td>null</td><td>null</td><td>null</td><td>null</td><td>null</td><td>&quot;a55475b1&quot;</td><td>&quot;a55475b1&quot;</td><td>&quot;a55475b1&quot;</td><td>null</td><td>null</td><td>null</td><td>null</td><td>null</td><td>null</td><td>null</td><td>null</td><td>null</td><td>null</td><td>null</td><td>null</td><td>null</td><td>null</td><td>null</td><td>null</td><td>null</td><td>null</td><td>&quot;a55475b1&quot;</td><td>&quot;a55475b1&quot;</td><td>null</td><td>null</td><td>null</td><td>null</td><td>null</td><td>null</td><td>null</td><td>6.0</td><td>4019.6</td><td>null</td><td>&quot;2019-01-25&quot;</td><td>null</td><td>null</td><td>null</td><td>null</td><td>null</td><td>null</td></tr><tr><td>388</td><td>null</td><td>null</td><td>null</td><td>&quot;1989-04-01&quot;</td><td>null</td><td>&quot;1989-04-01&quot;</td><td>null</td><td>6.0</td><td>8.0</td><td>2.0</td><td>10.0</td><td>4.0</td><td>&quot;a55475b1&quot;</td><td>&quot;a55475b1&quot;</td><td>&quot;a55475b1&quot;</td><td>2.0</td><td>null</td><td>null</td><td>null</td><td>null</td><td>null</td><td>null</td><td>null</td><td>null</td><td>null</td><td>null</td><td>null</td><td>null</td><td>null</td><td>null</td><td>null</td><td>null</td><td>6.0</td><td>&quot;a55475b1&quot;</td><td>&quot;a55475b1&quot;</td><td>10.0</td><td>null</td><td>null</td><td>null</td><td>null</td><td>null</td><td>null</td><td>6.0</td><td>14548.0</td><td>null</td><td>&quot;2019-01-28&quot;</td><td>null</td><td>null</td><td>null</td><td>null</td><td>3.0</td><td>5.0</td></tr><tr><td>405</td><td>null</td><td>null</td><td>null</td><td>&quot;1974-03-01&quot;</td><td>null</td><td>&quot;1974-03-01&quot;</td><td>null</td><td>0.0</td><td>0.0</td><td>0.0</td><td>1.0</td><td>0.0</td><td>&quot;a55475b1&quot;</td><td>&quot;a55475b1&quot;</td><td>&quot;a55475b1&quot;</td><td>0.0</td><td>null</td><td>null</td><td>null</td><td>null</td><td>null</td><td>null</td><td>null</td><td>null</td><td>null</td><td>null</td><td>null</td><td>null</td><td>null</td><td>null</td><td>null</td><td>null</td><td>4.0</td><td>&quot;a55475b1&quot;</td><td>&quot;a55475b1&quot;</td><td>1.0</td><td>null</td><td>null</td><td>null</td><td>null</td><td>null</td><td>null</td><td>6.0</td><td>10498.24</td><td>null</td><td>&quot;2019-01-21&quot;</td><td>null</td><td>null</td><td>null</td><td>null</td><td>2.0</td><td>0.0</td></tr><tr><td>409</td><td>null</td><td>null</td><td>null</td><td>&quot;1993-06-01&quot;</td><td>null</td><td>&quot;1993-06-01&quot;</td><td>null</td><td>2.0</td><td>3.0</td><td>0.0</td><td>3.0</td><td>1.0</td><td>&quot;a55475b1&quot;</td><td>&quot;717ddd49&quot;</td><td>&quot;a55475b1&quot;</td><td>4.0</td><td>null</td><td>null</td><td>null</td><td>null</td><td>null</td><td>null</td><td>null</td><td>null</td><td>null</td><td>null</td><td>null</td><td>null</td><td>null</td><td>null</td><td>null</td><td>null</td><td>1.0</td><td>&quot;a7fcb6e5&quot;</td><td>&quot;a55475b1&quot;</td><td>3.0</td><td>null</td><td>null</td><td>null</td><td>null</td><td>null</td><td>null</td><td>7.0</td><td>6344.8804</td><td>null</td><td>&quot;2019-01-21&quot;</td><td>null</td><td>null</td><td>null</td><td>null</td><td>0.0</td><td>4.0</td></tr></tbody></table></div>"
      ],
      "text/plain": [
       "shape: (5, 53)\n",
       "┌─────────┬────────────┬───────────┬───────────┬───┬───────────┬───────────┬───────────┬───────────┐\n",
       "│ case_id ┆ assignment ┆ assignmen ┆ assignmen ┆ … ┆ riskasses ┆ riskasses ┆ secondqua ┆ thirdquar │\n",
       "│ ---     ┆ date_238D  ┆ tdate_452 ┆ tdate_495 ┆   ┆ ment_302T ┆ ment_940T ┆ rter_766L ┆ ter_1082L │\n",
       "│ i64     ┆ ---        ┆ 7235D     ┆ 5616D     ┆   ┆ ---       ┆ ---       ┆ ---       ┆ ---       │\n",
       "│         ┆ str        ┆ ---       ┆ ---       ┆   ┆ str       ┆ f64       ┆ f64       ┆ f64       │\n",
       "│         ┆            ┆ str       ┆ str       ┆   ┆           ┆           ┆           ┆           │\n",
       "╞═════════╪════════════╪═══════════╪═══════════╪═══╪═══════════╪═══════════╪═══════════╪═══════════╡\n",
       "│ 357     ┆ null       ┆ null      ┆ null      ┆ … ┆ null      ┆ null      ┆ null      ┆ null      │\n",
       "│ 381     ┆ null       ┆ null      ┆ null      ┆ … ┆ null      ┆ null      ┆ null      ┆ null      │\n",
       "│ 388     ┆ null       ┆ null      ┆ null      ┆ … ┆ null      ┆ null      ┆ 3.0       ┆ 5.0       │\n",
       "│ 405     ┆ null       ┆ null      ┆ null      ┆ … ┆ null      ┆ null      ┆ 2.0       ┆ 0.0       │\n",
       "│ 409     ┆ null       ┆ null      ┆ null      ┆ … ┆ null      ┆ null      ┆ 0.0       ┆ 4.0       │\n",
       "└─────────┴────────────┴───────────┴───────────┴───┴───────────┴───────────┴───────────┴───────────┘"
      ]
     },
     "execution_count": 7,
     "metadata": {},
     "output_type": "execute_result"
    }
   ],
   "source": [
    "train_static_cb.head()"
   ]
  },
  {
   "cell_type": "code",
   "execution_count": 4,
   "metadata": {},
   "outputs": [],
   "source": [
    "# def set_table_dtypes(df: pl.DataFrame) -> pl.DataFrame:\n",
    "#     # implement here all desired dtypes for tables\n",
    "#     # the following is just an example\n",
    "#     for col in df.columns:\n",
    "#         # last letter of column name will help you determine the type\n",
    "#         if col[-1] in (\"P\", \"A\"):\n",
    "#             df = df.with_columns(pl.col(col).cast(pl.Float64).alias(col))\n",
    "\n",
    "#     return df\n",
    "# def convert_strings(df: pd.DataFrame) -> pd.DataFrame:\n",
    "#     for col in df.columns:  \n",
    "#         if df[col].dtype.name in ['object', 'string']:\n",
    "#             df[col] = df[col].astype(\"string\").astype('category')\n",
    "#             current_categories = df[col].cat.categories\n",
    "#             new_categories = current_categories.to_list() + [\"Unknown\"]\n",
    "#             new_dtype = pd.CategoricalDtype(categories=new_categories, ordered=True)\n",
    "#             df[col] = df[col].astype(new_dtype)\n",
    "#     return df"
   ]
  },
  {
   "cell_type": "code",
   "execution_count": null,
   "metadata": {},
   "outputs": [],
   "source": []
  }
 ],
 "metadata": {
  "kernelspec": {
   "display_name": "Python 3",
   "language": "python",
   "name": "python3"
  },
  "language_info": {
   "codemirror_mode": {
    "name": "ipython",
    "version": 3
   },
   "file_extension": ".py",
   "mimetype": "text/x-python",
   "name": "python",
   "nbconvert_exporter": "python",
   "pygments_lexer": "ipython3",
   "version": "3.8.8"
  }
 },
 "nbformat": 4,
 "nbformat_minor": 2
}
