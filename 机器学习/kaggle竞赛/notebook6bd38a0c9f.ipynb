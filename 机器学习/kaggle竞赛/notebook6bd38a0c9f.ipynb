{
 "cells": [
  {
   "cell_type": "code",
   "execution_count": 1,
   "id": "1f244f8e",
   "metadata": {
    "_cell_guid": "b1076dfc-b9ad-4769-8c92-a6c4dae69d19",
    "_uuid": "8f2839f25d086af736a60e9eeb907d3b93b6e0e5",
    "execution": {
     "iopub.execute_input": "2024-09-23T12:50:36.224187Z",
     "iopub.status.busy": "2024-09-23T12:50:36.223879Z",
     "iopub.status.idle": "2024-09-23T12:50:36.229002Z",
     "shell.execute_reply": "2024-09-23T12:50:36.228190Z"
    },
    "papermill": {
     "duration": 0.016162,
     "end_time": "2024-09-23T12:50:36.230980",
     "exception": false,
     "start_time": "2024-09-23T12:50:36.214818",
     "status": "completed"
    },
    "tags": []
   },
   "outputs": [],
   "source": [
    "# # This Python 3 environment comes with many helpful analytics libraries installed\n",
    "# # It is defined by the kaggle/python Docker image: https://github.com/kaggle/docker-python\n",
    "# # For example, here's several helpful packages to load\n",
    "\n",
    "# import numpy as np # linear algebra\n",
    "# import pandas as pd # data processing, CSV file I/O (e.g. pd.read_csv)\n",
    "\n",
    "# # Input data files are available in the read-only \"../input/\" directory\n",
    "# # For example, running this (by clicking run or pressing Shift+Enter) will list all files under the input directory\n",
    "\n",
    "# import os\n",
    "# for dirname, _, filenames in os.walk('/kaggle/input'):\n",
    "#     for filename in filenames:\n",
    "#         print(os.path.join(dirname, filename))\n",
    "\n",
    "# # You can write up to 20GB to the current directory (/kaggle/working/) that gets preserved as output when you create a version using \"Save & Run All\" \n",
    "# # You can also write temporary files to /kaggle/temp/, but they won't be saved outside of the current session"
   ]
  },
  {
   "cell_type": "code",
   "execution_count": 2,
   "id": "1d6f9c23",
   "metadata": {
    "execution": {
     "iopub.execute_input": "2024-09-23T12:50:36.246726Z",
     "iopub.status.busy": "2024-09-23T12:50:36.246418Z",
     "iopub.status.idle": "2024-09-23T12:50:36.250347Z",
     "shell.execute_reply": "2024-09-23T12:50:36.249539Z"
    },
    "papermill": {
     "duration": 0.013874,
     "end_time": "2024-09-23T12:50:36.252203",
     "exception": false,
     "start_time": "2024-09-23T12:50:36.238329",
     "status": "completed"
    },
    "tags": []
   },
   "outputs": [],
   "source": [
    "#也可对每张表的列去重\n",
    "# 每个文件先导进来\n",
    "# 同一张表先拼接上\n",
    "# 每种表有什么特征\n",
    "# 表互相怎么连接\n",
    "# 把表有必要的部分连接到base表上\n",
    "# 然后EDA 分析\n",
    "# 除了主表外，还有9张数据表+两张说明表\n",
    "\n",
    "# applprev,\n",
    "# credit_bureau,\n",
    "# debitcard,\n",
    "# deposit,\n",
    "# other,\n",
    "# person,\n",
    "# static,\n",
    "# static_cb_0,\n",
    "# tax_registry"
   ]
  },
  {
   "cell_type": "code",
   "execution_count": 3,
   "id": "0305370b",
   "metadata": {
    "execution": {
     "iopub.execute_input": "2024-09-23T12:50:36.267623Z",
     "iopub.status.busy": "2024-09-23T12:50:36.267366Z",
     "iopub.status.idle": "2024-09-23T12:50:42.114554Z",
     "shell.execute_reply": "2024-09-23T12:50:42.113777Z"
    },
    "papermill": {
     "duration": 5.857538,
     "end_time": "2024-09-23T12:50:42.116936",
     "exception": false,
     "start_time": "2024-09-23T12:50:36.259398",
     "status": "completed"
    },
    "tags": []
   },
   "outputs": [],
   "source": [
    "# 导入机器学习常用的包\n",
    "import os\n",
    "import gc\n",
    "from glob import glob\n",
    "from pathlib import Path\n",
    "from datetime import datetime\n",
    "\n",
    "import numpy as np\n",
    "import pandas as pd\n",
    "import polars as pl\n",
    "\n",
    "import matplotlib.pyplot as plt\n",
    "import seaborn as sns\n",
    "\n",
    "from sklearn.model_selection import StratifiedGroupKFold\n",
    "from sklearn.base import BaseEstimator, ClassifierMixin\n",
    "\n",
    "import lightgbm as lgb\n",
    "\n",
    "import warnings\n",
    "warnings.simplefilter(action='ignore', category=FutureWarning)\n",
    "\n",
    "ROOT = Path(\"/kaggle/input/home-credit-credit-risk-model-stability\")\n",
    "TRAIN_DIR = ROOT / \"parquet_files\" / \"train\"\n",
    "TEST_DIR = ROOT / \"parquet_files\" / \"test\""
   ]
  },
  {
   "cell_type": "code",
   "execution_count": 4,
   "id": "3cd881ae",
   "metadata": {
    "execution": {
     "iopub.execute_input": "2024-09-23T12:50:42.133725Z",
     "iopub.status.busy": "2024-09-23T12:50:42.133112Z",
     "iopub.status.idle": "2024-09-23T12:50:42.139722Z",
     "shell.execute_reply": "2024-09-23T12:50:42.138850Z"
    },
    "papermill": {
     "duration": 0.016819,
     "end_time": "2024-09-23T12:50:42.141564",
     "exception": false,
     "start_time": "2024-09-23T12:50:42.124745",
     "status": "completed"
    },
    "tags": []
   },
   "outputs": [],
   "source": [
    "def read_file(path, depth=None):\n",
    "    df = pl.read_parquet(path)\n",
    "    return process_dataframe(df, depth)\n",
    "\n",
    "def read_files(regex_path, depth=None):\n",
    "    import glob as glob\n",
    "    # 使用列表推导和上下文管理器读取并处理所有文件\n",
    "    chunks = [process_dataframe(pl.read_parquet(path), depth) for path in glob.glob(str(regex_path))]\n",
    "    \n",
    "    # 合并所有 DataFrame 并去重\n",
    "    df = pl.concat(chunks, how=\"vertical_relaxed\")\n",
    "    df = df.unique(subset=[\"case_id\"])\n",
    "    \n",
    "    return df\n",
    "\n"
   ]
  },
  {
   "cell_type": "code",
   "execution_count": 5,
   "id": "2cd64d22",
   "metadata": {
    "execution": {
     "iopub.execute_input": "2024-09-23T12:50:42.157171Z",
     "iopub.status.busy": "2024-09-23T12:50:42.156821Z",
     "iopub.status.idle": "2024-09-23T12:50:42.160920Z",
     "shell.execute_reply": "2024-09-23T12:50:42.160121Z"
    },
    "papermill": {
     "duration": 0.014134,
     "end_time": "2024-09-23T12:50:42.162823",
     "exception": false,
     "start_time": "2024-09-23T12:50:42.148689",
     "status": "completed"
    },
    "tags": []
   },
   "outputs": [],
   "source": [
    "def __clear(data_store):\n",
    "    del data_store\n",
    "    gc.collect()"
   ]
  },
  {
   "cell_type": "code",
   "execution_count": 6,
   "id": "4481d6d5",
   "metadata": {
    "execution": {
     "iopub.execute_input": "2024-09-23T12:50:42.177990Z",
     "iopub.status.busy": "2024-09-23T12:50:42.177687Z",
     "iopub.status.idle": "2024-09-23T12:50:42.182435Z",
     "shell.execute_reply": "2024-09-23T12:50:42.181595Z"
    },
    "papermill": {
     "duration": 0.014458,
     "end_time": "2024-09-23T12:50:42.184350",
     "exception": false,
     "start_time": "2024-09-23T12:50:42.169892",
     "status": "completed"
    },
    "tags": []
   },
   "outputs": [],
   "source": [
    "def to_pandas(df_data, cat_cols=None):\n",
    "    df_data = df_data.to_pandas()\n",
    "    \n",
    "    if cat_cols is None:\n",
    "        cat_cols = list(df_data.select_dtypes(\"object\").columns)\n",
    "    \n",
    "    df_data[cat_cols] = df_data[cat_cols].astype(\"category\")\n",
    "    \n",
    "    return df_data, cat_cols"
   ]
  },
  {
   "cell_type": "code",
   "execution_count": 7,
   "id": "90b715cb",
   "metadata": {
    "execution": {
     "iopub.execute_input": "2024-09-23T12:50:42.199764Z",
     "iopub.status.busy": "2024-09-23T12:50:42.199452Z",
     "iopub.status.idle": "2024-09-23T12:50:42.205670Z",
     "shell.execute_reply": "2024-09-23T12:50:42.204940Z"
    },
    "papermill": {
     "duration": 0.016038,
     "end_time": "2024-09-23T12:50:42.207550",
     "exception": false,
     "start_time": "2024-09-23T12:50:42.191512",
     "status": "completed"
    },
    "tags": []
   },
   "outputs": [],
   "source": [
    "class VotingModel(BaseEstimator, ClassifierMixin):\n",
    "    def __init__(self, estimators):\n",
    "        super().__init__()\n",
    "        self.estimators = estimators\n",
    "        \n",
    "    def fit(self, X, y=None):\n",
    "        return self\n",
    "    \n",
    "    def predict(self, X):\n",
    "        y_preds = [estimator.predict(X) for estimator in self.estimators]\n",
    "        return np.mean(y_preds, axis=0)\n",
    "    \n",
    "    def predict_proba(self, X):\n",
    "        y_preds = [estimator.predict_proba(X) for estimator in self.estimators]\n",
    "        return np.mean(y_preds, axis=0)"
   ]
  },
  {
   "cell_type": "code",
   "execution_count": 8,
   "id": "9fbf9605",
   "metadata": {
    "execution": {
     "iopub.execute_input": "2024-09-23T12:50:42.223161Z",
     "iopub.status.busy": "2024-09-23T12:50:42.222900Z",
     "iopub.status.idle": "2024-09-23T12:50:42.236870Z",
     "shell.execute_reply": "2024-09-23T12:50:42.236029Z"
    },
    "papermill": {
     "duration": 0.024261,
     "end_time": "2024-09-23T12:50:42.238904",
     "exception": false,
     "start_time": "2024-09-23T12:50:42.214643",
     "status": "completed"
    },
    "tags": []
   },
   "outputs": [],
   "source": [
    "class Pipeline:\n",
    "    @staticmethod\n",
    "    def set_table_dtypes(df):\n",
    "        # 定义列名到数据类型的映射\n",
    "        dtype_mapping = {\n",
    "            \"case_id\": pl.Int32,\n",
    "            \"WEEK_NUM\": pl.Int32,\n",
    "            \"num_group1\": pl.Int32,\n",
    "            \"num_group2\": pl.Int32,\n",
    "            \"date_decision\": pl.Date,\n",
    "        }\n",
    "\n",
    "        # 根据列名的最后一个字符定义数据类型\n",
    "        for col in df.columns:\n",
    "            if col in dtype_mapping:\n",
    "                df = df.with_columns(pl.col(col).cast(dtype_mapping[col]))\n",
    "            elif col[-1] in (\"P\", \"A\"):\n",
    "                df = df.with_columns(pl.col(col).cast(pl.Float64))\n",
    "            elif col[-1] == \"M\":\n",
    "                df = df.with_columns(pl.col(col).cast(pl.String))\n",
    "            elif col[-1] == \"D\":\n",
    "                df = df.with_columns(pl.col(col).cast(pl.Date))\n",
    "\n",
    "        return df\n",
    "\n",
    "    @staticmethod\n",
    "    def handle_dates(df):\n",
    "        # 处理以 \"D\" 结尾的日期列\n",
    "        date_cols = [col for col in df.columns if col[-1] == \"D\"]\n",
    "        for col in date_cols:\n",
    "            df = df.with_columns(\n",
    "                (pl.col(col) - pl.col(\"date_decision\")).alias(col)\n",
    "            ).with_columns(\n",
    "                pl.col(col).dt.total_days().cast(pl.Float32).alias(col)\n",
    "            )\n",
    "\n",
    "        # 删除不需要的列\n",
    "        df = df.drop([\"date_decision\", \"MONTH\"])\n",
    "\n",
    "        return df\n",
    "\n",
    "    @staticmethod\n",
    "    def filter_cols(df):\n",
    "        # 过滤掉缺失值比例超过 95% 的列\n",
    "        null_ratio = df.select([pl.col(col).is_null().mean().alias(col) for col in df.columns])\n",
    "        high_null_cols = [col for col in null_ratio.columns if null_ratio[col][0] > 0.95 and col not in [\"target\", \"case_id\", \"WEEK_NUM\"]]\n",
    "        df = df.drop(high_null_cols)\n",
    "\n",
    "        # 过滤掉唯一值数量为 1 或超过 200 的字符串列\n",
    "        string_cols = [col for col in df.columns if df[col].dtype == pl.String]\n",
    "        for col in string_cols:\n",
    "            if col not in [\"target\", \"case_id\", \"WEEK_NUM\"]:\n",
    "                freq = df[col].n_unique()\n",
    "                if freq == 1 or freq > 200:\n",
    "                    df = df.drop(col)\n",
    "\n",
    "        return df\n",
    "\n",
    "def process_dataframe(df, depth=None):\n",
    "    df = Pipeline.set_table_dtypes(df)\n",
    "    \n",
    "    if depth in [1, 2]:\n",
    "        df = df.group_by(\"case_id\").agg(Aggregator.get_exprs(df))\n",
    "    \n",
    "    return df"
   ]
  },
  {
   "cell_type": "code",
   "execution_count": 9,
   "id": "fe247794",
   "metadata": {
    "execution": {
     "iopub.execute_input": "2024-09-23T12:50:42.254372Z",
     "iopub.status.busy": "2024-09-23T12:50:42.254064Z",
     "iopub.status.idle": "2024-09-23T12:50:42.264163Z",
     "shell.execute_reply": "2024-09-23T12:50:42.263486Z"
    },
    "papermill": {
     "duration": 0.019865,
     "end_time": "2024-09-23T12:50:42.265969",
     "exception": false,
     "start_time": "2024-09-23T12:50:42.246104",
     "status": "completed"
    },
    "tags": []
   },
   "outputs": [],
   "source": [
    "class Aggregator:\n",
    "    @staticmethod\n",
    "    def num_expr(df):\n",
    "        cols = [col for col in df.columns if col[-1] in (\"P\", \"A\")]\n",
    "\n",
    "        expr_max = [pl.max(col).alias(f\"max_{col}\") for col in cols]\n",
    "\n",
    "        return expr_max\n",
    "\n",
    "    @staticmethod\n",
    "    def date_expr(df):\n",
    "        cols = [col for col in df.columns if col[-1] in (\"D\",)]\n",
    "\n",
    "        expr_max = [pl.max(col).alias(f\"max_{col}\") for col in cols]\n",
    "\n",
    "        return expr_max\n",
    "\n",
    "    @staticmethod\n",
    "    def str_expr(df):\n",
    "        cols = [col for col in df.columns if col[-1] in (\"M\",)]\n",
    "        \n",
    "        expr_max = [pl.max(col).alias(f\"max_{col}\") for col in cols]\n",
    "\n",
    "        return expr_max\n",
    "\n",
    "    @staticmethod\n",
    "    def other_expr(df):\n",
    "        cols = [col for col in df.columns if col[-1] in (\"T\", \"L\")]\n",
    "        \n",
    "        expr_max = [pl.max(col).alias(f\"max_{col}\") for col in cols]\n",
    "\n",
    "        return expr_max\n",
    "    \n",
    "    @staticmethod\n",
    "    def count_expr(df):\n",
    "        cols = [col for col in df.columns if \"num_group\" in col]\n",
    "\n",
    "        expr_max = [pl.max(col).alias(f\"max_{col}\") for col in cols]\n",
    "\n",
    "        return expr_max\n",
    "\n",
    "    @staticmethod\n",
    "    def get_exprs(df):\n",
    "        exprs = Aggregator.num_expr(df) + \\\n",
    "                Aggregator.date_expr(df) + \\\n",
    "                Aggregator.str_expr(df) + \\\n",
    "                Aggregator.other_expr(df) + \\\n",
    "                Aggregator.count_expr(df)\n",
    "\n",
    "        return exprs"
   ]
  },
  {
   "cell_type": "code",
   "execution_count": 10,
   "id": "fefcccc5",
   "metadata": {
    "execution": {
     "iopub.execute_input": "2024-09-23T12:50:42.281384Z",
     "iopub.status.busy": "2024-09-23T12:50:42.281126Z",
     "iopub.status.idle": "2024-09-23T12:52:37.415535Z",
     "shell.execute_reply": "2024-09-23T12:52:37.414704Z"
    },
    "papermill": {
     "duration": 115.144801,
     "end_time": "2024-09-23T12:52:37.417961",
     "exception": false,
     "start_time": "2024-09-23T12:50:42.273160",
     "status": "completed"
    },
    "tags": []
   },
   "outputs": [
    {
     "ename": "FileNotFoundError",
     "evalue": "系统找不到指定的路径。 (os error 3): ...gle\\input\\home-credit-credit-risk-model-stability\\parquet_files\\train\\train_base.parquet",
     "output_type": "error",
     "traceback": [
      "\u001b[1;31m---------------------------------------------------------------------------\u001b[0m",
      "\u001b[1;31mFileNotFoundError\u001b[0m                         Traceback (most recent call last)",
      "Cell \u001b[1;32mIn[10], line 2\u001b[0m\n\u001b[0;32m      1\u001b[0m data_store \u001b[38;5;241m=\u001b[39m {\n\u001b[1;32m----> 2\u001b[0m     \u001b[38;5;124m\"\u001b[39m\u001b[38;5;124mdf_base\u001b[39m\u001b[38;5;124m\"\u001b[39m: \u001b[43mread_file\u001b[49m\u001b[43m(\u001b[49m\u001b[43mTRAIN_DIR\u001b[49m\u001b[43m \u001b[49m\u001b[38;5;241;43m/\u001b[39;49m\u001b[43m \u001b[49m\u001b[38;5;124;43m\"\u001b[39;49m\u001b[38;5;124;43mtrain_base.parquet\u001b[39;49m\u001b[38;5;124;43m\"\u001b[39;49m\u001b[43m)\u001b[49m,\n\u001b[0;32m      3\u001b[0m     \u001b[38;5;124m\"\u001b[39m\u001b[38;5;124mdepth_0\u001b[39m\u001b[38;5;124m\"\u001b[39m: [\n\u001b[0;32m      4\u001b[0m         read_file(TRAIN_DIR \u001b[38;5;241m/\u001b[39m \u001b[38;5;124m\"\u001b[39m\u001b[38;5;124mtrain_static_cb_0.parquet\u001b[39m\u001b[38;5;124m\"\u001b[39m),\n\u001b[0;32m      5\u001b[0m         read_files(TRAIN_DIR \u001b[38;5;241m/\u001b[39m \u001b[38;5;124m\"\u001b[39m\u001b[38;5;124mtrain_static_0_*.parquet\u001b[39m\u001b[38;5;124m\"\u001b[39m),\n\u001b[0;32m      6\u001b[0m     ],\n\u001b[0;32m      7\u001b[0m     \u001b[38;5;124m\"\u001b[39m\u001b[38;5;124mdepth_1\u001b[39m\u001b[38;5;124m\"\u001b[39m: [\n\u001b[0;32m      8\u001b[0m         read_files(TRAIN_DIR \u001b[38;5;241m/\u001b[39m \u001b[38;5;124m\"\u001b[39m\u001b[38;5;124mtrain_applprev_1_*.parquet\u001b[39m\u001b[38;5;124m\"\u001b[39m, \u001b[38;5;241m1\u001b[39m),\n\u001b[0;32m      9\u001b[0m         read_file(TRAIN_DIR \u001b[38;5;241m/\u001b[39m \u001b[38;5;124m\"\u001b[39m\u001b[38;5;124mtrain_tax_registry_a_1.parquet\u001b[39m\u001b[38;5;124m\"\u001b[39m, \u001b[38;5;241m1\u001b[39m),\n\u001b[0;32m     10\u001b[0m         read_file(TRAIN_DIR \u001b[38;5;241m/\u001b[39m \u001b[38;5;124m\"\u001b[39m\u001b[38;5;124mtrain_tax_registry_b_1.parquet\u001b[39m\u001b[38;5;124m\"\u001b[39m, \u001b[38;5;241m1\u001b[39m),\n\u001b[0;32m     11\u001b[0m         read_file(TRAIN_DIR \u001b[38;5;241m/\u001b[39m \u001b[38;5;124m\"\u001b[39m\u001b[38;5;124mtrain_tax_registry_c_1.parquet\u001b[39m\u001b[38;5;124m\"\u001b[39m, \u001b[38;5;241m1\u001b[39m),\n\u001b[0;32m     12\u001b[0m         read_files(TRAIN_DIR \u001b[38;5;241m/\u001b[39m \u001b[38;5;124m\"\u001b[39m\u001b[38;5;124mtrain_credit_bureau_a_1_*.parquet\u001b[39m\u001b[38;5;124m\"\u001b[39m, \u001b[38;5;241m1\u001b[39m),\n\u001b[0;32m     13\u001b[0m         read_file(TRAIN_DIR \u001b[38;5;241m/\u001b[39m \u001b[38;5;124m\"\u001b[39m\u001b[38;5;124mtrain_credit_bureau_b_1.parquet\u001b[39m\u001b[38;5;124m\"\u001b[39m, \u001b[38;5;241m1\u001b[39m),\n\u001b[0;32m     14\u001b[0m         read_file(TRAIN_DIR \u001b[38;5;241m/\u001b[39m \u001b[38;5;124m\"\u001b[39m\u001b[38;5;124mtrain_other_1.parquet\u001b[39m\u001b[38;5;124m\"\u001b[39m, \u001b[38;5;241m1\u001b[39m),\n\u001b[0;32m     15\u001b[0m         read_file(TRAIN_DIR \u001b[38;5;241m/\u001b[39m \u001b[38;5;124m\"\u001b[39m\u001b[38;5;124mtrain_person_1.parquet\u001b[39m\u001b[38;5;124m\"\u001b[39m, \u001b[38;5;241m1\u001b[39m),\n\u001b[0;32m     16\u001b[0m         read_file(TRAIN_DIR \u001b[38;5;241m/\u001b[39m \u001b[38;5;124m\"\u001b[39m\u001b[38;5;124mtrain_deposit_1.parquet\u001b[39m\u001b[38;5;124m\"\u001b[39m, \u001b[38;5;241m1\u001b[39m),\n\u001b[0;32m     17\u001b[0m         read_file(TRAIN_DIR \u001b[38;5;241m/\u001b[39m \u001b[38;5;124m\"\u001b[39m\u001b[38;5;124mtrain_debitcard_1.parquet\u001b[39m\u001b[38;5;124m\"\u001b[39m, \u001b[38;5;241m1\u001b[39m),\n\u001b[0;32m     18\u001b[0m     ],\n\u001b[0;32m     19\u001b[0m     \u001b[38;5;124m\"\u001b[39m\u001b[38;5;124mdepth_2\u001b[39m\u001b[38;5;124m\"\u001b[39m: [\n\u001b[0;32m     20\u001b[0m         read_file(TRAIN_DIR \u001b[38;5;241m/\u001b[39m \u001b[38;5;124m\"\u001b[39m\u001b[38;5;124mtrain_credit_bureau_b_2.parquet\u001b[39m\u001b[38;5;124m\"\u001b[39m, \u001b[38;5;241m2\u001b[39m),\n\u001b[0;32m     21\u001b[0m         read_files(TRAIN_DIR \u001b[38;5;241m/\u001b[39m \u001b[38;5;124m\"\u001b[39m\u001b[38;5;124mtrain_credit_bureau_a_2_*.parquet\u001b[39m\u001b[38;5;124m\"\u001b[39m, \u001b[38;5;241m2\u001b[39m),\n\u001b[0;32m     22\u001b[0m     ]\n\u001b[0;32m     23\u001b[0m }\n",
      "Cell \u001b[1;32mIn[4], line 2\u001b[0m, in \u001b[0;36mread_file\u001b[1;34m(path, depth)\u001b[0m\n\u001b[0;32m      1\u001b[0m \u001b[38;5;28;01mdef\u001b[39;00m \u001b[38;5;21mread_file\u001b[39m(path, depth\u001b[38;5;241m=\u001b[39m\u001b[38;5;28;01mNone\u001b[39;00m):\n\u001b[1;32m----> 2\u001b[0m     df \u001b[38;5;241m=\u001b[39m \u001b[43mpl\u001b[49m\u001b[38;5;241;43m.\u001b[39;49m\u001b[43mread_parquet\u001b[49m\u001b[43m(\u001b[49m\u001b[43mpath\u001b[49m\u001b[43m)\u001b[49m\n\u001b[0;32m      3\u001b[0m     \u001b[38;5;28;01mreturn\u001b[39;00m process_dataframe(df, depth)\n",
      "File \u001b[1;32md:\\myenv\\anaconda\\lib\\site-packages\\polars\\_utils\\deprecation.py:91\u001b[0m, in \u001b[0;36mdeprecate_renamed_parameter.<locals>.decorate.<locals>.wrapper\u001b[1;34m(*args, **kwargs)\u001b[0m\n\u001b[0;32m     86\u001b[0m \u001b[38;5;129m@wraps\u001b[39m(function)\n\u001b[0;32m     87\u001b[0m \u001b[38;5;28;01mdef\u001b[39;00m \u001b[38;5;21mwrapper\u001b[39m(\u001b[38;5;241m*\u001b[39margs: P\u001b[38;5;241m.\u001b[39margs, \u001b[38;5;241m*\u001b[39m\u001b[38;5;241m*\u001b[39mkwargs: P\u001b[38;5;241m.\u001b[39mkwargs) \u001b[38;5;241m-\u001b[39m\u001b[38;5;241m>\u001b[39m T:\n\u001b[0;32m     88\u001b[0m     _rename_keyword_argument(\n\u001b[0;32m     89\u001b[0m         old_name, new_name, kwargs, function\u001b[38;5;241m.\u001b[39m\u001b[38;5;18m__qualname__\u001b[39m, version\n\u001b[0;32m     90\u001b[0m     )\n\u001b[1;32m---> 91\u001b[0m     \u001b[38;5;28;01mreturn\u001b[39;00m \u001b[43mfunction\u001b[49m\u001b[43m(\u001b[49m\u001b[38;5;241;43m*\u001b[39;49m\u001b[43margs\u001b[49m\u001b[43m,\u001b[49m\u001b[43m \u001b[49m\u001b[38;5;241;43m*\u001b[39;49m\u001b[38;5;241;43m*\u001b[39;49m\u001b[43mkwargs\u001b[49m\u001b[43m)\u001b[49m\n",
      "File \u001b[1;32md:\\myenv\\anaconda\\lib\\site-packages\\polars\\_utils\\deprecation.py:91\u001b[0m, in \u001b[0;36mdeprecate_renamed_parameter.<locals>.decorate.<locals>.wrapper\u001b[1;34m(*args, **kwargs)\u001b[0m\n\u001b[0;32m     86\u001b[0m \u001b[38;5;129m@wraps\u001b[39m(function)\n\u001b[0;32m     87\u001b[0m \u001b[38;5;28;01mdef\u001b[39;00m \u001b[38;5;21mwrapper\u001b[39m(\u001b[38;5;241m*\u001b[39margs: P\u001b[38;5;241m.\u001b[39margs, \u001b[38;5;241m*\u001b[39m\u001b[38;5;241m*\u001b[39mkwargs: P\u001b[38;5;241m.\u001b[39mkwargs) \u001b[38;5;241m-\u001b[39m\u001b[38;5;241m>\u001b[39m T:\n\u001b[0;32m     88\u001b[0m     _rename_keyword_argument(\n\u001b[0;32m     89\u001b[0m         old_name, new_name, kwargs, function\u001b[38;5;241m.\u001b[39m\u001b[38;5;18m__qualname__\u001b[39m, version\n\u001b[0;32m     90\u001b[0m     )\n\u001b[1;32m---> 91\u001b[0m     \u001b[38;5;28;01mreturn\u001b[39;00m \u001b[43mfunction\u001b[49m\u001b[43m(\u001b[49m\u001b[38;5;241;43m*\u001b[39;49m\u001b[43margs\u001b[49m\u001b[43m,\u001b[49m\u001b[43m \u001b[49m\u001b[38;5;241;43m*\u001b[39;49m\u001b[38;5;241;43m*\u001b[39;49m\u001b[43mkwargs\u001b[49m\u001b[43m)\u001b[49m\n",
      "File \u001b[1;32md:\\myenv\\anaconda\\lib\\site-packages\\polars\\io\\parquet\\functions.py:209\u001b[0m, in \u001b[0;36mread_parquet\u001b[1;34m(source, columns, n_rows, row_index_name, row_index_offset, parallel, use_statistics, hive_partitioning, glob, hive_schema, try_parse_hive_dates, rechunk, low_memory, storage_options, retries, use_pyarrow, pyarrow_options, memory_map)\u001b[0m\n\u001b[0;32m    206\u001b[0m     \u001b[38;5;28;01melse\u001b[39;00m:\n\u001b[0;32m    207\u001b[0m         lf \u001b[38;5;241m=\u001b[39m lf\u001b[38;5;241m.\u001b[39mselect(columns)\n\u001b[1;32m--> 209\u001b[0m \u001b[38;5;28;01mreturn\u001b[39;00m \u001b[43mlf\u001b[49m\u001b[38;5;241;43m.\u001b[39;49m\u001b[43mcollect\u001b[49m\u001b[43m(\u001b[49m\u001b[43m)\u001b[49m\n",
      "File \u001b[1;32md:\\myenv\\anaconda\\lib\\site-packages\\polars\\lazyframe\\frame.py:2032\u001b[0m, in \u001b[0;36mLazyFrame.collect\u001b[1;34m(self, type_coercion, predicate_pushdown, projection_pushdown, simplify_expression, slice_pushdown, comm_subplan_elim, comm_subexpr_elim, cluster_with_columns, no_optimization, streaming, engine, background, _eager, **_kwargs)\u001b[0m\n\u001b[0;32m   2030\u001b[0m \u001b[38;5;66;03m# Only for testing purposes\u001b[39;00m\n\u001b[0;32m   2031\u001b[0m callback \u001b[38;5;241m=\u001b[39m _kwargs\u001b[38;5;241m.\u001b[39mget(\u001b[38;5;124m\"\u001b[39m\u001b[38;5;124mpost_opt_callback\u001b[39m\u001b[38;5;124m\"\u001b[39m, callback)\n\u001b[1;32m-> 2032\u001b[0m \u001b[38;5;28;01mreturn\u001b[39;00m wrap_df(\u001b[43mldf\u001b[49m\u001b[38;5;241;43m.\u001b[39;49m\u001b[43mcollect\u001b[49m\u001b[43m(\u001b[49m\u001b[43mcallback\u001b[49m\u001b[43m)\u001b[49m)\n",
      "\u001b[1;31mFileNotFoundError\u001b[0m: 系统找不到指定的路径。 (os error 3): ...gle\\input\\home-credit-credit-risk-model-stability\\parquet_files\\train\\train_base.parquet"
     ]
    }
   ],
   "source": [
    "data_store = {\n",
    "    \"df_base\": read_file(TRAIN_DIR / \"train_base.parquet\"),\n",
    "    \"depth_0\": [\n",
    "        read_file(TRAIN_DIR / \"train_static_cb_0.parquet\"),\n",
    "        read_files(TRAIN_DIR / \"train_static_0_*.parquet\"),\n",
    "    ],\n",
    "    \"depth_1\": [\n",
    "        read_files(TRAIN_DIR / \"train_applprev_1_*.parquet\", 1),\n",
    "        read_file(TRAIN_DIR / \"train_tax_registry_a_1.parquet\", 1),\n",
    "        read_file(TRAIN_DIR / \"train_tax_registry_b_1.parquet\", 1),\n",
    "        read_file(TRAIN_DIR / \"train_tax_registry_c_1.parquet\", 1),\n",
    "        read_files(TRAIN_DIR / \"train_credit_bureau_a_1_*.parquet\", 1),\n",
    "        read_file(TRAIN_DIR / \"train_credit_bureau_b_1.parquet\", 1),\n",
    "        read_file(TRAIN_DIR / \"train_other_1.parquet\", 1),\n",
    "        read_file(TRAIN_DIR / \"train_person_1.parquet\", 1),\n",
    "        read_file(TRAIN_DIR / \"train_deposit_1.parquet\", 1),\n",
    "        read_file(TRAIN_DIR / \"train_debitcard_1.parquet\", 1),\n",
    "    ],\n",
    "    \"depth_2\": [\n",
    "        read_file(TRAIN_DIR / \"train_credit_bureau_b_2.parquet\", 2),\n",
    "        read_files(TRAIN_DIR / \"train_credit_bureau_a_2_*.parquet\", 2),\n",
    "    ]\n",
    "}"
   ]
  },
  {
   "cell_type": "code",
   "execution_count": 11,
   "id": "c6d6de60",
   "metadata": {
    "execution": {
     "iopub.execute_input": "2024-09-23T12:52:37.434040Z",
     "iopub.status.busy": "2024-09-23T12:52:37.433705Z",
     "iopub.status.idle": "2024-09-23T12:52:37.439654Z",
     "shell.execute_reply": "2024-09-23T12:52:37.438804Z"
    },
    "papermill": {
     "duration": 0.016121,
     "end_time": "2024-09-23T12:52:37.441657",
     "exception": false,
     "start_time": "2024-09-23T12:52:37.425536",
     "status": "completed"
    },
    "tags": []
   },
   "outputs": [],
   "source": [
    "def feature_eng(df_base, depth_0, depth_1, depth_2):\n",
    "    df_base = (\n",
    "        df_base\n",
    "        .with_columns(\n",
    "            month_decision = pl.col(\"date_decision\").dt.month(),\n",
    "            weekday_decision = pl.col(\"date_decision\").dt.weekday(),\n",
    "        )\n",
    "    )\n",
    "        \n",
    "    for i, df in enumerate(depth_0 + depth_1 + depth_2):\n",
    "        df_base = df_base.join(df, how=\"left\", on=\"case_id\", suffix=f\"_{i}\")\n",
    "        \n",
    "    df_base = df_base.pipe(Pipeline.handle_dates)\n",
    "    \n",
    "    return df_base"
   ]
  },
  {
   "cell_type": "code",
   "execution_count": 12,
   "id": "f9945a8b",
   "metadata": {
    "execution": {
     "iopub.execute_input": "2024-09-23T12:52:37.457941Z",
     "iopub.status.busy": "2024-09-23T12:52:37.457177Z",
     "iopub.status.idle": "2024-09-23T12:52:47.365741Z",
     "shell.execute_reply": "2024-09-23T12:52:47.364830Z"
    },
    "papermill": {
     "duration": 9.919143,
     "end_time": "2024-09-23T12:52:47.368066",
     "exception": false,
     "start_time": "2024-09-23T12:52:37.448923",
     "status": "completed"
    },
    "tags": []
   },
   "outputs": [
    {
     "name": "stdout",
     "output_type": "stream",
     "text": [
      "train data shape:\t (1526659, 472)\n"
     ]
    }
   ],
   "source": [
    "df_train = feature_eng(**data_store)\n",
    "\n",
    "print(\"train data shape:\\t\", df_train.shape)"
   ]
  },
  {
   "cell_type": "code",
   "execution_count": 13,
   "id": "1ee886e3",
   "metadata": {
    "execution": {
     "iopub.execute_input": "2024-09-23T12:52:47.384533Z",
     "iopub.status.busy": "2024-09-23T12:52:47.383982Z",
     "iopub.status.idle": "2024-09-23T12:52:47.925793Z",
     "shell.execute_reply": "2024-09-23T12:52:47.924988Z"
    },
    "papermill": {
     "duration": 0.552267,
     "end_time": "2024-09-23T12:52:47.928117",
     "exception": false,
     "start_time": "2024-09-23T12:52:47.375850",
     "status": "completed"
    },
    "tags": []
   },
   "outputs": [],
   "source": [
    "data_store = {\n",
    "    \"df_base\": read_file(TEST_DIR / \"test_base.parquet\"),\n",
    "    \"depth_0\": [\n",
    "        read_file(TEST_DIR / \"test_static_cb_0.parquet\"),\n",
    "        read_files(TEST_DIR / \"test_static_0_*.parquet\"),\n",
    "    ],\n",
    "    \"depth_1\": [\n",
    "        read_files(TEST_DIR / \"test_applprev_1_*.parquet\", 1),\n",
    "        read_file(TEST_DIR / \"test_tax_registry_a_1.parquet\", 1),\n",
    "        read_file(TEST_DIR / \"test_tax_registry_b_1.parquet\", 1),\n",
    "        read_file(TEST_DIR / \"test_tax_registry_c_1.parquet\", 1),\n",
    "        read_files(TEST_DIR / \"test_credit_bureau_a_1_*.parquet\", 1),\n",
    "        read_file(TEST_DIR / \"test_credit_bureau_b_1.parquet\", 1),\n",
    "        read_file(TEST_DIR / \"test_other_1.parquet\", 1),\n",
    "        read_file(TEST_DIR / \"test_person_1.parquet\", 1),\n",
    "        read_file(TEST_DIR / \"test_deposit_1.parquet\", 1),\n",
    "        read_file(TEST_DIR / \"test_debitcard_1.parquet\", 1),\n",
    "    ],\n",
    "    \"depth_2\": [\n",
    "        read_file(TEST_DIR / \"test_credit_bureau_b_2.parquet\", 2),\n",
    "        read_files(TEST_DIR / \"test_credit_bureau_a_2_*.parquet\", 2),\n",
    "    ]\n",
    "}"
   ]
  },
  {
   "cell_type": "code",
   "execution_count": 14,
   "id": "02d32ae4",
   "metadata": {
    "execution": {
     "iopub.execute_input": "2024-09-23T12:52:47.944502Z",
     "iopub.status.busy": "2024-09-23T12:52:47.943948Z",
     "iopub.status.idle": "2024-09-23T12:52:47.978580Z",
     "shell.execute_reply": "2024-09-23T12:52:47.977593Z"
    },
    "papermill": {
     "duration": 0.044775,
     "end_time": "2024-09-23T12:52:47.980509",
     "exception": false,
     "start_time": "2024-09-23T12:52:47.935734",
     "status": "completed"
    },
    "tags": []
   },
   "outputs": [
    {
     "name": "stdout",
     "output_type": "stream",
     "text": [
      "test data shape:\t (10, 471)\n"
     ]
    }
   ],
   "source": [
    "df_test = feature_eng(**data_store)\n",
    "\n",
    "print(\"test data shape:\\t\", df_test.shape)"
   ]
  },
  {
   "cell_type": "code",
   "execution_count": 15,
   "id": "462c6b76",
   "metadata": {
    "execution": {
     "iopub.execute_input": "2024-09-23T12:52:47.996422Z",
     "iopub.status.busy": "2024-09-23T12:52:47.995830Z",
     "iopub.status.idle": "2024-09-23T12:52:49.513744Z",
     "shell.execute_reply": "2024-09-23T12:52:49.512830Z"
    },
    "papermill": {
     "duration": 1.528124,
     "end_time": "2024-09-23T12:52:49.515921",
     "exception": false,
     "start_time": "2024-09-23T12:52:47.987797",
     "status": "completed"
    },
    "tags": []
   },
   "outputs": [
    {
     "name": "stdout",
     "output_type": "stream",
     "text": [
      "train data shape:\t (1526659, 361)\n",
      "test data shape:\t (10, 360)\n"
     ]
    }
   ],
   "source": [
    "df_train = df_train.pipe(Pipeline.filter_cols)\n",
    "df_test = df_test.select([col for col in df_train.columns if col != \"target\"])\n",
    "\n",
    "print(\"train data shape:\\t\", df_train.shape)\n",
    "print(\"test data shape:\\t\", df_test.shape)"
   ]
  },
  {
   "cell_type": "code",
   "execution_count": 16,
   "id": "a87ca304",
   "metadata": {
    "execution": {
     "iopub.execute_input": "2024-09-23T12:52:49.532277Z",
     "iopub.status.busy": "2024-09-23T12:52:49.531973Z",
     "iopub.status.idle": "2024-09-23T12:53:10.136727Z",
     "shell.execute_reply": "2024-09-23T12:53:10.135551Z"
    },
    "papermill": {
     "duration": 20.615649,
     "end_time": "2024-09-23T12:53:10.139256",
     "exception": false,
     "start_time": "2024-09-23T12:52:49.523607",
     "status": "completed"
    },
    "tags": []
   },
   "outputs": [],
   "source": [
    "df_train, cat_cols = to_pandas(df_train)\n",
    "df_test, cat_cols = to_pandas(df_test, cat_cols)"
   ]
  },
  {
   "cell_type": "code",
   "execution_count": 17,
   "id": "effee8e4",
   "metadata": {
    "execution": {
     "iopub.execute_input": "2024-09-23T12:53:10.156500Z",
     "iopub.status.busy": "2024-09-23T12:53:10.155570Z",
     "iopub.status.idle": "2024-09-23T12:53:10.280713Z",
     "shell.execute_reply": "2024-09-23T12:53:10.279764Z"
    },
    "papermill": {
     "duration": 0.135624,
     "end_time": "2024-09-23T12:53:10.282639",
     "exception": false,
     "start_time": "2024-09-23T12:53:10.147015",
     "status": "completed"
    },
    "tags": []
   },
   "outputs": [],
   "source": [
    "__clear(data_store)"
   ]
  },
  {
   "cell_type": "code",
   "execution_count": 18,
   "id": "6902e3b4",
   "metadata": {
    "collapsed": true,
    "execution": {
     "iopub.execute_input": "2024-09-23T12:53:10.303589Z",
     "iopub.status.busy": "2024-09-23T12:53:10.302854Z",
     "iopub.status.idle": "2024-09-23T13:13:29.748082Z",
     "shell.execute_reply": "2024-09-23T13:13:29.747189Z"
    },
    "jupyter": {
     "outputs_hidden": true
    },
    "papermill": {
     "duration": 1219.458756,
     "end_time": "2024-09-23T13:13:29.750240",
     "exception": false,
     "start_time": "2024-09-23T12:53:10.291484",
     "status": "completed"
    },
    "tags": []
   },
   "outputs": [
    {
     "name": "stderr",
     "output_type": "stream",
     "text": [
      "1 warning generated.\n",
      "1 warning generated.\n",
      "1 warning generated.\n",
      "1 warning generated.\n",
      "1 warning generated.\n",
      "1 warning generated.\n",
      "1 warning generated.\n",
      "1 warning generated.\n",
      "1 warning generated.\n",
      "1 warning generated.\n",
      "1 warning generated.\n",
      "1 warning generated.\n",
      "1 warning generated.\n",
      "1 warning generated.\n",
      "1 warning generated.\n",
      "1 warning generated.\n",
      "1 warning generated.\n",
      "1 warning generated.\n",
      "1 warning generated.\n",
      "1 warning generated.\n",
      "1 warning generated.\n",
      "1 warning generated.\n",
      "1 warning generated.\n",
      "1 warning generated.\n",
      "1 warning generated.\n",
      "1 warning generated.\n",
      "1 warning generated.\n",
      "1 warning generated.\n",
      "1 warning generated.\n",
      "1 warning generated.\n",
      "1 warning generated.\n",
      "1 warning generated.\n",
      "1 warning generated.\n"
     ]
    },
    {
     "name": "stdout",
     "output_type": "stream",
     "text": [
      "Training until validation scores don't improve for 100 rounds\n",
      "[100]\tvalid_0's auc: 0.837898\n",
      "[200]\tvalid_0's auc: 0.84731\n",
      "[300]\tvalid_0's auc: 0.850355\n",
      "[400]\tvalid_0's auc: 0.851604\n",
      "[500]\tvalid_0's auc: 0.852133\n",
      "[600]\tvalid_0's auc: 0.852623\n",
      "[700]\tvalid_0's auc: 0.853076\n",
      "[800]\tvalid_0's auc: 0.853342\n",
      "[900]\tvalid_0's auc: 0.853546\n",
      "[1000]\tvalid_0's auc: 0.853647\n",
      "[1100]\tvalid_0's auc: 0.85385\n",
      "[1200]\tvalid_0's auc: 0.854002\n",
      "[1300]\tvalid_0's auc: 0.854132\n",
      "[1400]\tvalid_0's auc: 0.85415\n",
      "Early stopping, best iteration is:\n",
      "[1341]\tvalid_0's auc: 0.854188\n",
      "Training until validation scores don't improve for 100 rounds\n",
      "[100]\tvalid_0's auc: 0.838392\n",
      "[200]\tvalid_0's auc: 0.847511\n",
      "[300]\tvalid_0's auc: 0.85053\n",
      "[400]\tvalid_0's auc: 0.851656\n",
      "[500]\tvalid_0's auc: 0.852333\n",
      "[600]\tvalid_0's auc: 0.852704\n",
      "[700]\tvalid_0's auc: 0.853051\n",
      "[800]\tvalid_0's auc: 0.853222\n",
      "[900]\tvalid_0's auc: 0.85332\n",
      "[1000]\tvalid_0's auc: 0.853394\n",
      "[1100]\tvalid_0's auc: 0.853422\n",
      "[1200]\tvalid_0's auc: 0.853477\n",
      "Early stopping, best iteration is:\n",
      "[1183]\tvalid_0's auc: 0.853548\n",
      "Training until validation scores don't improve for 100 rounds\n",
      "[100]\tvalid_0's auc: 0.843069\n",
      "[200]\tvalid_0's auc: 0.852456\n",
      "[300]\tvalid_0's auc: 0.8557\n",
      "[400]\tvalid_0's auc: 0.857192\n",
      "[500]\tvalid_0's auc: 0.857836\n",
      "[600]\tvalid_0's auc: 0.858148\n",
      "[700]\tvalid_0's auc: 0.858565\n",
      "[800]\tvalid_0's auc: 0.858794\n",
      "[900]\tvalid_0's auc: 0.859089\n",
      "[1000]\tvalid_0's auc: 0.859234\n",
      "[1100]\tvalid_0's auc: 0.859394\n",
      "[1200]\tvalid_0's auc: 0.859548\n",
      "[1300]\tvalid_0's auc: 0.859567\n",
      "[1400]\tvalid_0's auc: 0.859671\n",
      "[1500]\tvalid_0's auc: 0.859679\n",
      "Did not meet early stopping. Best iteration is:\n",
      "[1470]\tvalid_0's auc: 0.859754\n",
      "Training until validation scores don't improve for 100 rounds\n",
      "[100]\tvalid_0's auc: 0.842614\n",
      "[200]\tvalid_0's auc: 0.852036\n",
      "[300]\tvalid_0's auc: 0.855238\n",
      "[400]\tvalid_0's auc: 0.856633\n",
      "[500]\tvalid_0's auc: 0.857109\n",
      "[600]\tvalid_0's auc: 0.857573\n",
      "[700]\tvalid_0's auc: 0.857952\n",
      "[800]\tvalid_0's auc: 0.858202\n",
      "[900]\tvalid_0's auc: 0.85837\n",
      "[1000]\tvalid_0's auc: 0.858456\n",
      "[1100]\tvalid_0's auc: 0.858456\n",
      "Early stopping, best iteration is:\n",
      "[1053]\tvalid_0's auc: 0.858522\n",
      "Training until validation scores don't improve for 100 rounds\n",
      "[100]\tvalid_0's auc: 0.837081\n",
      "[200]\tvalid_0's auc: 0.847088\n",
      "[300]\tvalid_0's auc: 0.850667\n",
      "[400]\tvalid_0's auc: 0.852209\n",
      "[500]\tvalid_0's auc: 0.85307\n",
      "[600]\tvalid_0's auc: 0.853594\n",
      "[700]\tvalid_0's auc: 0.853971\n",
      "[800]\tvalid_0's auc: 0.854231\n",
      "[900]\tvalid_0's auc: 0.854447\n",
      "[1000]\tvalid_0's auc: 0.854617\n",
      "[1100]\tvalid_0's auc: 0.854621\n",
      "Early stopping, best iteration is:\n",
      "[1053]\tvalid_0's auc: 0.854671\n"
     ]
    }
   ],
   "source": [
    "X = df_train.drop(columns=[\"target\", \"case_id\", \"WEEK_NUM\"])\n",
    "y = df_train[\"target\"]\n",
    "weeks = df_train[\"WEEK_NUM\"]\n",
    "\n",
    "cv = StratifiedGroupKFold(n_splits=5, shuffle=False)\n",
    "\n",
    "params = {\n",
    "    \"boosting_type\": \"gbdt\",\n",
    "    \"objective\": \"binary\",\n",
    "    \"metric\": \"auc\",\n",
    "    \"max_depth\": 8,\n",
    "    \"learning_rate\": 0.05,\n",
    "    \"n_estimators\": 1500,\n",
    "    \"colsample_bytree\": 0.8, \n",
    "    \"colsample_bynode\": 0.8,\n",
    "    \"verbose\": -1,\n",
    "    \"random_state\": 42,\n",
    "    \"device\": \"gpu\",\n",
    "}\n",
    "\n",
    "fitted_models = []\n",
    "\n",
    "for idx_train, idx_valid in cv.split(X, y, groups=weeks):\n",
    "    X_train, y_train = X.iloc[idx_train], y.iloc[idx_train]\n",
    "    X_valid, y_valid = X.iloc[idx_valid], y.iloc[idx_valid]\n",
    "\n",
    "    model = lgb.LGBMClassifier(**params)\n",
    "    model.fit(\n",
    "        X_train, y_train,\n",
    "        eval_set=[(X_valid, y_valid)],\n",
    "        callbacks=[lgb.log_evaluation(100), lgb.early_stopping(100)]\n",
    "    )\n",
    "\n",
    "    fitted_models.append(model)\n",
    "\n",
    "model = VotingModel(fitted_models)"
   ]
  },
  {
   "cell_type": "code",
   "execution_count": 19,
   "id": "289853fb",
   "metadata": {
    "execution": {
     "iopub.execute_input": "2024-09-23T13:13:29.783331Z",
     "iopub.status.busy": "2024-09-23T13:13:29.782562Z",
     "iopub.status.idle": "2024-09-23T13:13:30.047655Z",
     "shell.execute_reply": "2024-09-23T13:13:30.046632Z"
    },
    "papermill": {
     "duration": 0.282618,
     "end_time": "2024-09-23T13:13:30.050115",
     "exception": false,
     "start_time": "2024-09-23T13:13:29.767497",
     "status": "completed"
    },
    "tags": []
   },
   "outputs": [],
   "source": [
    "X_test = df_test.drop(columns=[\"WEEK_NUM\"])\n",
    "X_test = X_test.set_index(\"case_id\")\n",
    "\n",
    "y_pred = pd.Series(model.predict_proba(X_test)[:, 1], index=X_test.index)"
   ]
  },
  {
   "cell_type": "code",
   "execution_count": 20,
   "id": "21b04554",
   "metadata": {
    "execution": {
     "iopub.execute_input": "2024-09-23T13:13:30.083056Z",
     "iopub.status.busy": "2024-09-23T13:13:30.082735Z",
     "iopub.status.idle": "2024-09-23T13:13:30.115328Z",
     "shell.execute_reply": "2024-09-23T13:13:30.114386Z"
    },
    "papermill": {
     "duration": 0.049847,
     "end_time": "2024-09-23T13:13:30.117455",
     "exception": false,
     "start_time": "2024-09-23T13:13:30.067608",
     "status": "completed"
    },
    "tags": []
   },
   "outputs": [],
   "source": [
    "df_subm = pd.read_csv(ROOT / \"sample_submission.csv\")\n",
    "df_subm = df_subm.set_index(\"case_id\")\n",
    "\n",
    "df_subm[\"score\"] = y_pred"
   ]
  },
  {
   "cell_type": "code",
   "execution_count": 21,
   "id": "17cda670",
   "metadata": {
    "execution": {
     "iopub.execute_input": "2024-09-23T13:13:30.147802Z",
     "iopub.status.busy": "2024-09-23T13:13:30.147483Z",
     "iopub.status.idle": "2024-09-23T13:13:30.158600Z",
     "shell.execute_reply": "2024-09-23T13:13:30.157392Z"
    },
    "papermill": {
     "duration": 0.028253,
     "end_time": "2024-09-23T13:13:30.160686",
     "exception": false,
     "start_time": "2024-09-23T13:13:30.132433",
     "status": "completed"
    },
    "tags": []
   },
   "outputs": [
    {
     "name": "stdout",
     "output_type": "stream",
     "text": [
      "Check null:  False\n",
      "            score\n",
      "case_id          \n",
      "57543    0.004910\n",
      "57549    0.070310\n",
      "57551    0.004767\n",
      "57552    0.015138\n",
      "57569    0.128849\n"
     ]
    }
   ],
   "source": [
    "print(\"Check null: \", df_subm[\"score\"].isnull().any())\n",
    "\n",
    "print(df_subm.head())\n",
    "df_subm.to_csv(\"submission.csv\")"
   ]
  },
  {
   "cell_type": "code",
   "execution_count": 22,
   "id": "4fb1b081",
   "metadata": {
    "execution": {
     "iopub.execute_input": "2024-09-23T13:13:30.195867Z",
     "iopub.status.busy": "2024-09-23T13:13:30.195562Z",
     "iopub.status.idle": "2024-09-23T13:13:30.202558Z",
     "shell.execute_reply": "2024-09-23T13:13:30.201715Z"
    },
    "papermill": {
     "duration": 0.026739,
     "end_time": "2024-09-23T13:13:30.204568",
     "exception": false,
     "start_time": "2024-09-23T13:13:30.177829",
     "status": "completed"
    },
    "tags": []
   },
   "outputs": [],
   "source": [
    "from sklearn.metrics import roc_auc_score\n",
    "def gini_stability(base, w_fallingrate=88.0, w_resstd=-0.5):\n",
    "    gini_in_time = base.loc[:, [\"WEEK_NUM\", \"target\", \"score\"]]\\\n",
    "        .sort_values(\"WEEK_NUM\")\\\n",
    "        .groupby(\"WEEK_NUM\")[[\"target\", \"score\"]]\\\n",
    "        .apply(lambda x: 2*roc_auc_score(x[\"target\"], x[\"score\"])-1).tolist()\n",
    "    \n",
    "    x = np.arange(len(gini_in_time))\n",
    "    y = gini_in_time\n",
    "    a, b = np.polyfit(x, y, 1)\n",
    "    y_hat = a*x + b\n",
    "    residuals = y - y_hat\n",
    "    res_std = np.std(residuals)\n",
    "    avg_gini = np.mean(gini_in_time)\n",
    "    return avg_gini + w_fallingrate * min(0, a) + w_resstd * res_std"
   ]
  },
  {
   "cell_type": "code",
   "execution_count": 23,
   "id": "f3becbc3",
   "metadata": {
    "execution": {
     "iopub.execute_input": "2024-09-23T13:13:30.234209Z",
     "iopub.status.busy": "2024-09-23T13:13:30.233912Z",
     "iopub.status.idle": "2024-09-23T13:13:30.237683Z",
     "shell.execute_reply": "2024-09-23T13:13:30.236800Z"
    },
    "papermill": {
     "duration": 0.021126,
     "end_time": "2024-09-23T13:13:30.239746",
     "exception": false,
     "start_time": "2024-09-23T13:13:30.218620",
     "status": "completed"
    },
    "tags": []
   },
   "outputs": [],
   "source": [
    "# gini_stability()"
   ]
  },
  {
   "cell_type": "code",
   "execution_count": 24,
   "id": "75cfd43f",
   "metadata": {
    "execution": {
     "iopub.execute_input": "2024-09-23T13:13:30.269723Z",
     "iopub.status.busy": "2024-09-23T13:13:30.269399Z",
     "iopub.status.idle": "2024-09-23T13:13:31.086415Z",
     "shell.execute_reply": "2024-09-23T13:13:31.085181Z"
    },
    "papermill": {
     "duration": 0.833436,
     "end_time": "2024-09-23T13:13:31.088093",
     "exception": true,
     "start_time": "2024-09-23T13:13:30.254657",
     "status": "failed"
    },
    "tags": []
   },
   "outputs": [
    {
     "ename": "NameError",
     "evalue": "name 'accuracy_score' is not defined",
     "output_type": "error",
     "traceback": [
      "\u001b[0;31m---------------------------------------------------------------------------\u001b[0m",
      "\u001b[0;31mNameError\u001b[0m                                 Traceback (most recent call last)",
      "Cell \u001b[0;32mIn[24], line 5\u001b[0m\n\u001b[1;32m      2\u001b[0m y_pred \u001b[38;5;241m=\u001b[39m model\u001b[38;5;241m.\u001b[39mpredict(X_test)\n\u001b[1;32m      4\u001b[0m \u001b[38;5;66;03m# 评估模型\u001b[39;00m\n\u001b[0;32m----> 5\u001b[0m accuracy \u001b[38;5;241m=\u001b[39m \u001b[43maccuracy_score\u001b[49m(y_test, y_pred)\n\u001b[1;32m      6\u001b[0m \u001b[38;5;28mprint\u001b[39m(\u001b[38;5;124mf\u001b[39m\u001b[38;5;124m'\u001b[39m\u001b[38;5;124mAccuracy: \u001b[39m\u001b[38;5;132;01m{\u001b[39;00maccuracy\u001b[38;5;132;01m:\u001b[39;00m\u001b[38;5;124m.4f\u001b[39m\u001b[38;5;132;01m}\u001b[39;00m\u001b[38;5;124m'\u001b[39m)\n\u001b[1;32m      7\u001b[0m \u001b[38;5;28mprint\u001b[39m(classification_report(y_test, y_pred))\n",
      "\u001b[0;31mNameError\u001b[0m: name 'accuracy_score' is not defined"
     ]
    }
   ],
   "source": [
    "\n",
    "# 预测\n",
    "y_pred = model.predict(X_test)\n",
    "\n",
    "# 评估模型\n",
    "accuracy = accuracy_score(y_test, y_pred)\n",
    "print(f'Accuracy: {accuracy:.4f}')\n",
    "print(classification_report(y_test, y_pred))\n",
    "\n",
    "# 特征重要性\n",
    "feature_importances = model.get_feature_importance(Pool(X_test, label=y_test))\n",
    "feature_names = X_test.columns\n",
    "for score, name in sorted(zip(feature_importances, feature_names), reverse=True):\n",
    "    print(f'{name}: {score}')\n",
    "\n",
    "# 保存模型\n",
    "model.save_model('catboost_gpu_model.cbm')"
   ]
  },
  {
   "cell_type": "code",
   "execution_count": null,
   "id": "51be750f",
   "metadata": {
    "execution": {
     "iopub.execute_input": "2024-09-23T12:23:19.125389Z",
     "iopub.status.busy": "2024-09-23T12:23:19.124483Z"
    },
    "papermill": {
     "duration": null,
     "end_time": null,
     "exception": null,
     "start_time": null,
     "status": "pending"
    },
    "tags": []
   },
   "outputs": [],
   "source": [
    "# from catboost import CatBoostClassifier, Pool\n",
    "\n",
    "# X = df_train.drop(columns=[\"target\", \"case_id\", \"WEEK_NUM\"])\n",
    "# y = df_train[\"target\"]\n",
    "# weeks = df_train[\"WEEK_NUM\"]\n",
    "\n",
    "# cv = StratifiedGroupKFold(n_splits=5, shuffle=False)\n",
    "\n",
    "# cat_features_list = [col for col in X.columns if X[col].dtype.name in ['object', 'category']]\n",
    "# print(cat_features)\n",
    "# X[cat_features_list] = X[cat_features_list].astype(str)\n",
    "\n",
    "# fitted_models_cb = []\n",
    "\n",
    "# for idx_train, idx_valid in cv.split(X, y, groups=weeks):\n",
    "#     X_train, y_train = X.iloc[idx_train], y.iloc[idx_train]\n",
    "#     X_valid, y_valid = X.iloc[idx_valid], y.iloc[idx_valid]\n",
    "\n",
    "#     model = CatBoostClassifier(\n",
    "#         iterations=1000,  # 迭代次数\n",
    "#         learning_rate=0.03,  # 学习率\n",
    "#         depth=6,  # 树的深度\n",
    "#         loss_function='Logloss',  # 损失函数\n",
    "#         eval_metric='Accuracy',  # 评估指标\n",
    "#         random_seed=42,  # 随机种子\n",
    "#         verbose=100,  # 每 100 次迭代打印一次信息\n",
    "#         task_type='GPU',  # 使用 GPU\n",
    "#         devices='0:1'  # 使用哪些 GPU 设备，例如 '0:1' 表示使用第 0 和第 1 号 GPU\n",
    "#     )\n",
    "\n",
    "#     # 训练模型\n",
    "#     model.fit(\n",
    "#         X_train, y_train,\n",
    "#         eval_set=[(X_valid, y_valid)],\n",
    "#         early_stopping_rounds=500,  # 早停，如果 100 轮内没有提升则停止训练\n",
    "#         use_best_model=True,  # 使用最佳模型\n",
    "#         cat_features=cat_features_list,\n",
    "#         plot=True  # 绘制训练过程中的学习曲线\n",
    "#     )\n",
    "\n",
    "#     fitted_models_cb.append(model)\n",
    "\n",
    "# model = VotingModel(fitted_models_cb)"
   ]
  },
  {
   "cell_type": "code",
   "execution_count": null,
   "id": "e0594cc2",
   "metadata": {
    "papermill": {
     "duration": null,
     "end_time": null,
     "exception": null,
     "start_time": null,
     "status": "pending"
    },
    "tags": []
   },
   "outputs": [],
   "source": []
  }
 ],
 "metadata": {
  "kaggle": {
   "accelerator": "gpu",
   "dataSources": [
    {
     "databundleVersionId": 7921029,
     "sourceId": 50160,
     "sourceType": "competition"
    }
   ],
   "dockerImageVersionId": 30761,
   "isGpuEnabled": true,
   "isInternetEnabled": false,
   "language": "python",
   "sourceType": "notebook"
  },
  "kernelspec": {
   "display_name": "Python 3",
   "language": "python",
   "name": "python3"
  },
  "language_info": {
   "codemirror_mode": {
    "name": "ipython",
    "version": 3
   },
   "file_extension": ".py",
   "mimetype": "text/x-python",
   "name": "python",
   "nbconvert_exporter": "python",
   "pygments_lexer": "ipython3",
   "version": "3.8.8"
  },
  "papermill": {
   "default_parameters": {},
   "duration": 1378.932184,
   "end_time": "2024-09-23T13:13:32.323933",
   "environment_variables": {},
   "exception": true,
   "input_path": "__notebook__.ipynb",
   "output_path": "__notebook__.ipynb",
   "parameters": {},
   "start_time": "2024-09-23T12:50:33.391749",
   "version": "2.6.0"
  }
 },
 "nbformat": 4,
 "nbformat_minor": 5
}
