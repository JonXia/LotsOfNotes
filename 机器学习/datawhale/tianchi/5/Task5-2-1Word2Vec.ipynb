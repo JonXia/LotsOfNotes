{
 "cells": [
  {
   "cell_type": "markdown",
   "metadata": {
    "uuid": "39ba0c5f-d70d-411c-90bd-fbfc5229ee08"
   },
   "source": [
    "# 使用gensim训练word2vec\n",
    "\n",
    "本DEMO只使用部分数据，使用全部数据预训练的词向量地址：  \n",
    "\n",
    "链接: https://pan.baidu.com/s/1ewlck3zwXVQuAzraZ26Euw 提取码: qbpr "
   ]
  },
  {
   "cell_type": "code",
   "execution_count": 1,
   "metadata": {
    "uuid": "32031938-3434-4a00-859a-0a2f7b40df0e"
   },
   "outputs": [
    {
     "data": {
      "text/plain": [
       "<torch._C.Generator at 0x20ed754a510>"
      ]
     },
     "execution_count": 1,
     "metadata": {},
     "output_type": "execute_result"
    }
   ],
   "source": [
    "import logging\n",
    "import random\n",
    "\n",
    "import numpy as np\n",
    "import torch\n",
    "\n",
    "logging.basicConfig(level=logging.INFO, format='%(asctime)-15s %(levelname)s: %(message)s')\n",
    "\n",
    "# set seed\n",
    "seed = 666\n",
    "random.seed(seed)\n",
    "np.random.seed(seed)\n",
    "torch.cuda.manual_seed(seed)\n",
    "torch.manual_seed(seed)"
   ]
  },
  {
   "cell_type": "code",
   "execution_count": 3,
   "metadata": {
    "uuid": "2649b608-09c1-40e9-b584-a8b26988aaea"
   },
   "outputs": [
    {
     "name": "stderr",
     "output_type": "stream",
     "text": [
      "2020-07-28 08:48:20,268 INFO: Fold lens [1000, 1000, 1000, 1000, 1000, 1000, 1000, 1000, 1000, 1000]\n"
     ]
    }
   ],
   "source": [
    "# split data to 10 fold\n",
    "fold_num = 10\n",
    "data_file = '../data/train_set.csv'\n",
    "import pandas as pd\n",
    "\n",
    "\n",
    "def all_data2fold(fold_num, num=10000):\n",
    "    fold_data = []\n",
    "    f = pd.read_csv(data_file, sep='\\t', encoding='UTF-8')\n",
    "    texts = f['text'].tolist()[:num]\n",
    "    labels = f['label'].tolist()[:num]\n",
    "\n",
    "    total = len(labels)\n",
    "\n",
    "    index = list(range(total))\n",
    "    np.random.shuffle(index)\n",
    "\n",
    "    all_texts = []\n",
    "    all_labels = []\n",
    "    for i in index:\n",
    "        all_texts.append(texts[i])\n",
    "        all_labels.append(labels[i])\n",
    "\n",
    "    label2id = {}\n",
    "    for i in range(total):\n",
    "        label = str(all_labels[i])\n",
    "        if label not in label2id:\n",
    "            label2id[label] = [i]\n",
    "        else:\n",
    "            label2id[label].append(i)\n",
    "\n",
    "    all_index = [[] for _ in range(fold_num)]\n",
    "    for label, data in label2id.items():\n",
    "        # print(label, len(data))\n",
    "        batch_size = int(len(data) / fold_num)\n",
    "        other = len(data) - batch_size * fold_num\n",
    "        for i in range(fold_num):\n",
    "            cur_batch_size = batch_size + 1 if i < other else batch_size\n",
    "            # print(cur_batch_size)\n",
    "            batch_data = [data[i * batch_size + b] for b in range(cur_batch_size)]\n",
    "            all_index[i].extend(batch_data)\n",
    "\n",
    "    batch_size = int(total / fold_num)\n",
    "    other_texts = []\n",
    "    other_labels = []\n",
    "    other_num = 0\n",
    "    start = 0\n",
    "    for fold in range(fold_num):\n",
    "        num = len(all_index[fold])\n",
    "        texts = [all_texts[i] for i in all_index[fold]]\n",
    "        labels = [all_labels[i] for i in all_index[fold]]\n",
    "\n",
    "        if num > batch_size:\n",
    "            fold_texts = texts[:batch_size]\n",
    "            other_texts.extend(texts[batch_size:])\n",
    "            fold_labels = labels[:batch_size]\n",
    "            other_labels.extend(labels[batch_size:])\n",
    "            other_num += num - batch_size\n",
    "        elif num < batch_size:\n",
    "            end = start + batch_size - num\n",
    "            fold_texts = texts + other_texts[start: end]\n",
    "            fold_labels = labels + other_labels[start: end]\n",
    "            start = end\n",
    "        else:\n",
    "            fold_texts = texts\n",
    "            fold_labels = labels\n",
    "\n",
    "        assert batch_size == len(fold_labels)\n",
    "\n",
    "        # shuffle\n",
    "        index = list(range(batch_size))\n",
    "        np.random.shuffle(index)\n",
    "\n",
    "        shuffle_fold_texts = []\n",
    "        shuffle_fold_labels = []\n",
    "        for i in index:\n",
    "            shuffle_fold_texts.append(fold_texts[i])\n",
    "            shuffle_fold_labels.append(fold_labels[i])\n",
    "\n",
    "        data = {'label': shuffle_fold_labels, 'text': shuffle_fold_texts}\n",
    "        fold_data.append(data)\n",
    "\n",
    "    logging.info(\"Fold lens %s\", str([len(data['label']) for data in fold_data]))\n",
    "\n",
    "    return fold_data\n",
    "\n",
    "\n",
    "fold_data = all_data2fold(10)"
   ]
  },
  {
   "cell_type": "code",
   "execution_count": 4,
   "metadata": {
    "uuid": "50ee1c35-7a10-4acd-acb5-85e483ee05b7"
   },
   "outputs": [
    {
     "name": "stderr",
     "output_type": "stream",
     "text": [
      "2020-07-28 08:48:20,424 INFO: Total 9000 docs.\n"
     ]
    }
   ],
   "source": [
    "# build train data for word2vec\n",
    "fold_id = 9\n",
    "\n",
    "train_texts = []\n",
    "for i in range(0, fold_id):\n",
    "    data = fold_data[i]\n",
    "    train_texts.extend(data['text'])\n",
    "    \n",
    "logging.info('Total %d docs.' % len(train_texts))"
   ]
  },
  {
   "cell_type": "code",
   "execution_count": 5,
   "metadata": {
    "uuid": "52c07dbf-e32e-4c40-a161-82b903d72316"
   },
   "outputs": [
    {
     "name": "stderr",
     "output_type": "stream",
     "text": [
      "2020-07-28 08:48:20,436 INFO: Start training...\n",
      "2020-07-28 08:48:24,697 INFO: collecting all words and their counts\n",
      "2020-07-28 08:48:24,700 INFO: PROGRESS: at sentence #0, processed 0 words, keeping 0 word types\n",
      "2020-07-28 08:48:26,395 INFO: collected 5295 word types from a corpus of 8191447 raw words and 9000 sentences\n",
      "2020-07-28 08:48:26,397 INFO: Loading a fresh vocabulary\n",
      "2020-07-28 08:48:26,441 INFO: effective_min_count=5 retains 4335 unique words (81% of original 5295, drops 960)\n",
      "2020-07-28 08:48:26,443 INFO: effective_min_count=5 leaves 8189498 word corpus (99% of original 8191447, drops 1949)\n",
      "2020-07-28 08:48:26,466 INFO: deleting the raw counts dictionary of 5295 items\n",
      "2020-07-28 08:48:26,468 INFO: sample=0.001 downsamples 61 most-common words\n",
      "2020-07-28 08:48:26,470 INFO: downsampling leaves estimated 7070438 word corpus (86.3% of prior 8189498)\n",
      "2020-07-28 08:48:26,488 INFO: estimated required memory for 4335 words and 100 dimensions: 5635500 bytes\n",
      "2020-07-28 08:48:26,489 INFO: resetting layer weights\n",
      "2020-07-28 08:48:26,566 INFO: training model with 8 workers on 4335 vocabulary and 100 features, using sg=0 hs=0 sample=0.001 negative=5 window=5\n",
      "2020-07-28 08:48:27,578 INFO: EPOCH 1 - PROGRESS: at 21.19% examples, 1471181 words/s, in_qsize 13, out_qsize 2\n",
      "2020-07-28 08:48:28,580 INFO: EPOCH 1 - PROGRESS: at 42.89% examples, 1503910 words/s, in_qsize 14, out_qsize 1\n",
      "2020-07-28 08:48:29,586 INFO: EPOCH 1 - PROGRESS: at 66.66% examples, 1552589 words/s, in_qsize 15, out_qsize 1\n",
      "2020-07-28 08:48:30,592 INFO: EPOCH 1 - PROGRESS: at 90.07% examples, 1576107 words/s, in_qsize 14, out_qsize 1\n",
      "2020-07-28 08:48:30,992 INFO: worker thread finished; awaiting finish of 7 more threads\n",
      "2020-07-28 08:48:31,005 INFO: worker thread finished; awaiting finish of 6 more threads\n",
      "2020-07-28 08:48:31,007 INFO: worker thread finished; awaiting finish of 5 more threads\n",
      "2020-07-28 08:48:31,013 INFO: worker thread finished; awaiting finish of 4 more threads\n",
      "2020-07-28 08:48:31,018 INFO: worker thread finished; awaiting finish of 3 more threads\n",
      "2020-07-28 08:48:31,022 INFO: worker thread finished; awaiting finish of 2 more threads\n",
      "2020-07-28 08:48:31,024 INFO: worker thread finished; awaiting finish of 1 more threads\n",
      "2020-07-28 08:48:31,027 INFO: worker thread finished; awaiting finish of 0 more threads\n",
      "2020-07-28 08:48:31,029 INFO: EPOCH - 1 : training on 8191447 raw words (7022299 effective words) took 4.5s, 1575779 effective words/s\n",
      "2020-07-28 08:48:32,048 INFO: EPOCH 2 - PROGRESS: at 22.04% examples, 1516777 words/s, in_qsize 14, out_qsize 1\n",
      "2020-07-28 08:48:33,066 INFO: EPOCH 2 - PROGRESS: at 46.98% examples, 1622264 words/s, in_qsize 14, out_qsize 1\n",
      "2020-07-28 08:48:34,073 INFO: EPOCH 2 - PROGRESS: at 69.98% examples, 1624389 words/s, in_qsize 14, out_qsize 1\n",
      "2020-07-28 08:48:35,079 INFO: EPOCH 2 - PROGRESS: at 92.70% examples, 1611536 words/s, in_qsize 15, out_qsize 0\n",
      "2020-07-28 08:48:35,341 INFO: worker thread finished; awaiting finish of 7 more threads\n",
      "2020-07-28 08:48:35,347 INFO: worker thread finished; awaiting finish of 6 more threads\n",
      "2020-07-28 08:48:35,349 INFO: worker thread finished; awaiting finish of 5 more threads\n",
      "2020-07-28 08:48:35,350 INFO: worker thread finished; awaiting finish of 4 more threads\n",
      "2020-07-28 08:48:35,355 INFO: worker thread finished; awaiting finish of 3 more threads\n",
      "2020-07-28 08:48:35,359 INFO: worker thread finished; awaiting finish of 2 more threads\n",
      "2020-07-28 08:48:35,364 INFO: worker thread finished; awaiting finish of 1 more threads\n",
      "2020-07-28 08:48:35,368 INFO: worker thread finished; awaiting finish of 0 more threads\n",
      "2020-07-28 08:48:35,371 INFO: EPOCH - 2 : training on 8191447 raw words (7021460 effective words) took 4.3s, 1620084 effective words/s\n",
      "2020-07-28 08:48:36,383 INFO: EPOCH 3 - PROGRESS: at 23.19% examples, 1618424 words/s, in_qsize 14, out_qsize 1\n",
      "2020-07-28 08:48:37,390 INFO: EPOCH 3 - PROGRESS: at 46.11% examples, 1611552 words/s, in_qsize 15, out_qsize 0\n",
      "2020-07-28 08:48:38,395 INFO: EPOCH 3 - PROGRESS: at 68.78% examples, 1605616 words/s, in_qsize 15, out_qsize 0\n",
      "2020-07-28 08:48:39,398 INFO: EPOCH 3 - PROGRESS: at 90.53% examples, 1585171 words/s, in_qsize 15, out_qsize 0\n",
      "2020-07-28 08:48:39,794 INFO: worker thread finished; awaiting finish of 7 more threads\n",
      "2020-07-28 08:48:39,800 INFO: worker thread finished; awaiting finish of 6 more threads\n",
      "2020-07-28 08:48:39,805 INFO: worker thread finished; awaiting finish of 5 more threads\n",
      "2020-07-28 08:48:39,807 INFO: worker thread finished; awaiting finish of 4 more threads\n",
      "2020-07-28 08:48:39,809 INFO: worker thread finished; awaiting finish of 3 more threads\n",
      "2020-07-28 08:48:39,814 INFO: worker thread finished; awaiting finish of 2 more threads\n",
      "2020-07-28 08:48:39,820 INFO: worker thread finished; awaiting finish of 1 more threads\n",
      "2020-07-28 08:48:39,823 INFO: worker thread finished; awaiting finish of 0 more threads\n",
      "2020-07-28 08:48:39,826 INFO: EPOCH - 3 : training on 8191447 raw words (7022010 effective words) took 4.4s, 1578498 effective words/s\n",
      "2020-07-28 08:48:40,835 INFO: EPOCH 4 - PROGRESS: at 21.01% examples, 1453207 words/s, in_qsize 15, out_qsize 1\n",
      "2020-07-28 08:48:41,837 INFO: EPOCH 4 - PROGRESS: at 41.02% examples, 1440191 words/s, in_qsize 15, out_qsize 0\n",
      "2020-07-28 08:48:42,840 INFO: EPOCH 4 - PROGRESS: at 63.49% examples, 1484511 words/s, in_qsize 15, out_qsize 0\n",
      "2020-07-28 08:48:43,852 INFO: EPOCH 4 - PROGRESS: at 85.17% examples, 1491930 words/s, in_qsize 13, out_qsize 2\n",
      "2020-07-28 08:48:44,459 INFO: worker thread finished; awaiting finish of 7 more threads\n",
      "2020-07-28 08:48:44,466 INFO: worker thread finished; awaiting finish of 6 more threads\n",
      "2020-07-28 08:48:44,469 INFO: worker thread finished; awaiting finish of 5 more threads\n",
      "2020-07-28 08:48:44,471 INFO: worker thread finished; awaiting finish of 4 more threads\n",
      "2020-07-28 08:48:44,474 INFO: worker thread finished; awaiting finish of 3 more threads\n",
      "2020-07-28 08:48:44,476 INFO: worker thread finished; awaiting finish of 2 more threads\n",
      "2020-07-28 08:48:44,483 INFO: worker thread finished; awaiting finish of 1 more threads\n",
      "2020-07-28 08:48:44,487 INFO: worker thread finished; awaiting finish of 0 more threads\n",
      "2020-07-28 08:48:44,490 INFO: EPOCH - 4 : training on 8191447 raw words (7022462 effective words) took 4.7s, 1508268 effective words/s\n",
      "2020-07-28 08:48:45,503 INFO: EPOCH 5 - PROGRESS: at 21.49% examples, 1492640 words/s, in_qsize 15, out_qsize 0\n",
      "2020-07-28 08:48:46,506 INFO: EPOCH 5 - PROGRESS: at 43.59% examples, 1529578 words/s, in_qsize 15, out_qsize 1\n",
      "2020-07-28 08:48:47,508 INFO: EPOCH 5 - PROGRESS: at 65.76% examples, 1535789 words/s, in_qsize 15, out_qsize 0\n",
      "2020-07-28 08:48:48,515 INFO: EPOCH 5 - PROGRESS: at 87.06% examples, 1525818 words/s, in_qsize 14, out_qsize 1\n",
      "2020-07-28 08:48:49,042 INFO: worker thread finished; awaiting finish of 7 more threads\n",
      "2020-07-28 08:48:49,051 INFO: worker thread finished; awaiting finish of 6 more threads\n",
      "2020-07-28 08:48:49,054 INFO: worker thread finished; awaiting finish of 5 more threads\n",
      "2020-07-28 08:48:49,057 INFO: worker thread finished; awaiting finish of 4 more threads\n",
      "2020-07-28 08:48:49,059 INFO: worker thread finished; awaiting finish of 3 more threads\n",
      "2020-07-28 08:48:49,061 INFO: worker thread finished; awaiting finish of 2 more threads\n",
      "2020-07-28 08:48:49,066 INFO: worker thread finished; awaiting finish of 1 more threads\n",
      "2020-07-28 08:48:49,083 INFO: worker thread finished; awaiting finish of 0 more threads\n",
      "2020-07-28 08:48:49,086 INFO: EPOCH - 5 : training on 8191447 raw words (7020412 effective words) took 4.6s, 1529940 effective words/s\n",
      "2020-07-28 08:48:49,087 INFO: training on a 40957235 raw words (35108643 effective words) took 22.5s, 1558939 effective words/s\n",
      "2020-07-28 08:48:49,089 INFO: precomputing L2-norms of word weight vectors\n",
      "2020-07-28 08:48:49,098 INFO: saving Word2Vec object under ./word2vec.bin, separately None\n",
      "2020-07-28 08:48:49,100 INFO: not storing attribute vectors_norm\n",
      "2020-07-28 08:48:49,103 INFO: not storing attribute cum_table\n",
      "2020-07-28 08:48:49,166 INFO: saved ./word2vec.bin\n"
     ]
    }
   ],
   "source": [
    "logging.info('Start training...')\n",
    "from gensim.models.word2vec import Word2Vec\n",
    "\n",
    "num_features = 100     # Word vector dimensionality\n",
    "num_workers = 8       # Number of threads to run in parallel\n",
    "\n",
    "train_texts = list(map(lambda x: list(x.split()), train_texts))\n",
    "model = Word2Vec(train_texts, workers=num_workers, size=num_features)\n",
    "model.init_sims(replace=True)\n",
    "\n",
    "# save model\n",
    "model.save(\"./word2vec.bin\")"
   ]
  },
  {
   "cell_type": "code",
   "execution_count": 6,
   "metadata": {
    "uuid": "86164214-18f2-45d5-9f83-eb07ab5dd036"
   },
   "outputs": [
    {
     "name": "stderr",
     "output_type": "stream",
     "text": [
      "2020-07-28 08:48:49,174 INFO: loading Word2Vec object from ./word2vec.bin\n",
      "2020-07-28 08:48:49,221 INFO: loading wv recursively from ./word2vec.bin.wv.* with mmap=None\n",
      "2020-07-28 08:48:49,223 INFO: setting ignored attribute vectors_norm to None\n",
      "2020-07-28 08:48:49,224 INFO: loading vocabulary recursively from ./word2vec.bin.vocabulary.* with mmap=None\n",
      "2020-07-28 08:48:49,225 INFO: loading trainables recursively from ./word2vec.bin.trainables.* with mmap=None\n",
      "2020-07-28 08:48:49,227 INFO: setting ignored attribute cum_table to None\n",
      "2020-07-28 08:48:49,228 INFO: loaded ./word2vec.bin\n",
      "2020-07-28 08:48:49,247 INFO: storing 4335x100 projection weights into ./word2vec.txt\n"
     ]
    }
   ],
   "source": [
    "# load model\n",
    "model = Word2Vec.load(\"./word2vec.bin\")\n",
    "\n",
    "# convert format\n",
    "model.wv.save_word2vec_format('./word2vec.txt', binary=False)"
   ]
  },
  {
   "cell_type": "markdown",
   "metadata": {
    "uuid": "d7658312-91e8-4fda-ac75-cf3afb04eac2"
   },
   "source": [
    "**关于Datawhale：**\n",
    "\n",
    "> Datawhale是一个专注于数据科学与AI领域的开源组织，汇集了众多领域院校和知名企业的优秀学习者，聚合了一群有开源精神和探索精神的团队成员。Datawhale 以“for the learner，和学习者一起成长”为愿景，鼓励真实地展现自我、开放包容、互信互助、敢于试错和勇于担当。同时 Datawhale 用开源的理念去探索开源内容、开源学习和开源方案，赋能人才培养，助力人才成长，建立起人与人，人与知识，人与企业和人与未来的联结。\n",
    "\n",
    "本次新闻文本分类学习，专题知识将在天池分享，详情可关注Datawhale：\n",
    "\n",
    " ![](http://jupter-oss.oss-cn-hangzhou.aliyuncs.com/public/files/image/1095279172547/1584432602983_kAxAvgQpG2.jpg)"
   ]
  },
  {
   "cell_type": "code",
   "execution_count": null,
   "metadata": {
    "uuid": "e5941a5f-a70a-4568-84d5-24c6c981bf21"
   },
   "outputs": [],
   "source": []
  }
 ],
 "metadata": {
  "kernelspec": {
   "display_name": "Python 3",
   "language": "python",
   "name": "python3"
  },
  "language_info": {
   "codemirror_mode": {
    "name": "ipython",
    "version": 3
   },
   "file_extension": ".py",
   "mimetype": "text/x-python",
   "name": "python",
   "nbconvert_exporter": "python",
   "pygments_lexer": "ipython3",
   "version": "3.6.5"
  },
  "toc": {
   "base_numbering": 1,
   "nav_menu": {},
   "number_sections": true,
   "sideBar": true,
   "skip_h1_title": false,
   "title_cell": "Table of Contents",
   "title_sidebar": "Contents",
   "toc_cell": false,
   "toc_position": {},
   "toc_section_display": true,
   "toc_window_display": false
  }
 },
 "nbformat": 4,
 "nbformat_minor": 2
}
