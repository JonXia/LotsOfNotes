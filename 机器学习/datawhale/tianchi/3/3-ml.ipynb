{
 "cells": [
  {
   "cell_type": "code",
   "execution_count": 6,
   "metadata": {},
   "outputs": [],
   "source": [
    "import dinglingling\n",
    "from dinglingling import wx_reminder\n",
    "import time\n",
    "SCKEY = \"SCU107128T841830fb3892a424180b3c318258798a5f1c42014351f\" # the sckey you get from http://sc.ftqq.com/3.version\n",
    "proxy = \"\" # if you needn't proxy, ignore it."
   ]
  },
  {
   "cell_type": "code",
   "execution_count": 15,
   "metadata": {},
   "outputs": [
    {
     "name": "stdout",
     "output_type": "stream",
     "text": [
      "3.0007753372192383\n",
      "hello world\n"
     ]
    }
   ],
   "source": [
    "from dinglingling import wx_reminder\n",
    "\n",
    "# remind_started: if you need remind you when the function \n",
    "# stated, make remind_started = True\n",
    "\n",
    "if __name__ == '__main__':\n",
    "    t1=time.time()\n",
    "    time.sleep(3)\n",
    "    t2=time.time()\n",
    "    print(t2-t1)\n",
    "    print(\"hello world\")"
   ]
  },
  {
   "cell_type": "code",
   "execution_count": null,
   "metadata": {},
   "outputs": [],
   "source": []
  }
 ],
 "metadata": {
  "kernelspec": {
   "display_name": "Python 3",
   "language": "python",
   "name": "python3"
  },
  "language_info": {
   "codemirror_mode": {
    "name": "ipython",
    "version": 3
   },
   "file_extension": ".py",
   "mimetype": "text/x-python",
   "name": "python",
   "nbconvert_exporter": "python",
   "pygments_lexer": "ipython3",
   "version": "3.6.5"
  },
  "toc": {
   "base_numbering": 1,
   "nav_menu": {},
   "number_sections": true,
   "sideBar": true,
   "skip_h1_title": false,
   "title_cell": "Table of Contents",
   "title_sidebar": "Contents",
   "toc_cell": false,
   "toc_position": {},
   "toc_section_display": true,
   "toc_window_display": false
  }
 },
 "nbformat": 4,
 "nbformat_minor": 2
}
