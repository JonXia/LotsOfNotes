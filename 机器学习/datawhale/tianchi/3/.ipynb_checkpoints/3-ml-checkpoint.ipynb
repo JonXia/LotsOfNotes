{
 "cells": [
  {
   "cell_type": "code",
   "execution_count": 86,
   "metadata": {},
   "outputs": [],
   "source": [
    "import pandas as pd\n",
    "\n",
    "import dinglingling\n",
    "from dinglingling import wx_reminder\n",
    "import datetime\n",
    "import time\n",
    "from sklearn.feature_extraction.text import TfidfVectorizer, TfidfTransformer\n",
    "from sklearn.svm import LinearSVC\n",
    "from sklearn.linear_model import RidgeClassifier\n",
    "from sklearn.pipeline import Pipeline\n",
    "from sklearn.model_selection import StratifiedKFold, GridSearchCV\n",
    "from sklearn.metrics import f1_score\n",
    "\n",
    "\n",
    "SCKEY = \"\""
   ]
  },
  {
   "cell_type": "code",
   "execution_count": 88,
   "metadata": {},
   "outputs": [
    {
     "name": "stdout",
     "output_type": "stream",
     "text": [
      "start at: 2020-07-26 10:14:54\n",
      "end at: 2020-07-26 10:14:55\n",
      "花费:      0.017minutes\n"
     ]
    }
   ],
   "source": [
    "@wx_reminder(SCKEY=SCKEY, remind_started=False)\n",
    "def train():\n",
    "    start = datetime.datetime.now()\n",
    "    print(start.strftime('start at: %Y-%m-%d %H:%M:%S'))\n",
    "    \n",
    "    # your training code\n",
    "    time.sleep(1) \n",
    "    \n",
    "    \n",
    "    end = datetime.datetime.now()\n",
    "    costtime = int((end-start).seconds) / 60\n",
    "    print(end.strftime('end at: %Y-%m-%d %H:%M:%S'))\n",
    "    print(\"花费: %10.3fminutes\" %costtime) \n",
    "    \n",
    "train()"
   ]
  },
  {
   "cell_type": "code",
   "execution_count": 98,
   "metadata": {},
   "outputs": [],
   "source": [
    "if __name__ == '__main__':"
   ]
  },
  {
   "cell_type": "code",
   "execution_count": null,
   "metadata": {},
   "outputs": [],
   "source": []
  }
 ],
 "metadata": {
  "kernelspec": {
   "display_name": "Python 3",
   "language": "python",
   "name": "python3"
  },
  "language_info": {
   "codemirror_mode": {
    "name": "ipython",
    "version": 3
   },
   "file_extension": ".py",
   "mimetype": "text/x-python",
   "name": "python",
   "nbconvert_exporter": "python",
   "pygments_lexer": "ipython3",
   "version": "3.6.5"
  },
  "toc": {
   "base_numbering": 1,
   "nav_menu": {},
   "number_sections": true,
   "sideBar": true,
   "skip_h1_title": false,
   "title_cell": "Table of Contents",
   "title_sidebar": "Contents",
   "toc_cell": false,
   "toc_position": {},
   "toc_section_display": true,
   "toc_window_display": false
  }
 },
 "nbformat": 4,
 "nbformat_minor": 2
}
