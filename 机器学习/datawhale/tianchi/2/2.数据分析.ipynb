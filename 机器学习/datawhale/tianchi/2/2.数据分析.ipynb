{
 "cells": [
  {
   "cell_type": "code",
   "execution_count": 11,
   "metadata": {},
   "outputs": [],
   "source": [
    "import numpy\n",
    "import matplotlib.pyplot as plt\n",
    "import pandas as pd\n",
    "from pandas import read_csv\n",
    "import math\n",
    "# from keras.models import Sequential\n",
    "# from keras.layers import Dense\n",
    "# from keras.layers import LSTM\n",
    "# from sklearn.preprocessing import MinMaxScaler\n",
    "# from sklearn.metrics import mean_squared_error\n",
    "%matplotlib inline\n",
    "import matplotlib.pyplot as plt\n",
    "# 支持中文\n",
    "plt.rcParams['font.sans-serif'] = ['SimHei']  # 用来正常显示中文标签\n",
    "plt.rcParams['axes.unicode_minus'] = False  # 用来正常显示负号\n",
    "\n",
    "\n",
    "train_df = pd.read_csv('../data/train_set.csv', sep='\\t', nrows = 100) #训练集\n",
    "# 测试集A\n",
    "test_a = pd.read_csv('../data/test_a.csv', sep='\\t', nrows=100) # 测试集A\n",
    "\n",
    "# 测试集B"
   ]
  },
  {
   "cell_type": "code",
   "execution_count": 12,
   "metadata": {},
   "outputs": [
    {
     "data": {
      "text/html": [
       "<div>\n",
       "<style scoped>\n",
       "    .dataframe tbody tr th:only-of-type {\n",
       "        vertical-align: middle;\n",
       "    }\n",
       "\n",
       "    .dataframe tbody tr th {\n",
       "        vertical-align: top;\n",
       "    }\n",
       "\n",
       "    .dataframe thead th {\n",
       "        text-align: right;\n",
       "    }\n",
       "</style>\n",
       "<table border=\"1\" class=\"dataframe\">\n",
       "  <thead>\n",
       "    <tr style=\"text-align: right;\">\n",
       "      <th></th>\n",
       "      <th>label</th>\n",
       "      <th>text</th>\n",
       "    </tr>\n",
       "  </thead>\n",
       "  <tbody>\n",
       "    <tr>\n",
       "      <th>0</th>\n",
       "      <td>2</td>\n",
       "      <td>2967 6758 339 2021 1854 3731 4109 3792 4149 15...</td>\n",
       "    </tr>\n",
       "    <tr>\n",
       "      <th>1</th>\n",
       "      <td>11</td>\n",
       "      <td>4464 486 6352 5619 2465 4802 1452 3137 5778 54...</td>\n",
       "    </tr>\n",
       "    <tr>\n",
       "      <th>2</th>\n",
       "      <td>3</td>\n",
       "      <td>7346 4068 5074 3747 5681 6093 1777 2226 7354 6...</td>\n",
       "    </tr>\n",
       "    <tr>\n",
       "      <th>3</th>\n",
       "      <td>2</td>\n",
       "      <td>7159 948 4866 2109 5520 2490 211 3956 5520 549...</td>\n",
       "    </tr>\n",
       "    <tr>\n",
       "      <th>4</th>\n",
       "      <td>3</td>\n",
       "      <td>3646 3055 3055 2490 4659 6065 3370 5814 2465 5...</td>\n",
       "    </tr>\n",
       "  </tbody>\n",
       "</table>\n",
       "</div>"
      ],
      "text/plain": [
       "   label                                               text\n",
       "0      2  2967 6758 339 2021 1854 3731 4109 3792 4149 15...\n",
       "1     11  4464 486 6352 5619 2465 4802 1452 3137 5778 54...\n",
       "2      3  7346 4068 5074 3747 5681 6093 1777 2226 7354 6...\n",
       "3      2  7159 948 4866 2109 5520 2490 211 3956 5520 549...\n",
       "4      3  3646 3055 3055 2490 4659 6065 3370 5814 2465 5..."
      ]
     },
     "execution_count": 12,
     "metadata": {},
     "output_type": "execute_result"
    }
   ],
   "source": [
    "train_df.head()"
   ]
  },
  {
   "cell_type": "markdown",
   "metadata": {},
   "source": [
    "文本分类的数据集有两列，分别为label和text：\n",
    " - label: 财经、彩票、房产、股票、家居、教育、科技、社会、时尚、时政、体育、星座、游戏、娱乐\n",
    " \n",
    "```\n",
    "{'科技': 0,\n",
    "'股票': 1,\n",
    "'体育': 2,\n",
    "'娱乐': 3,\n",
    "'时政': 4,\n",
    "'社会': 5,\n",
    "'教育': 6,\n",
    "'财经': 7,\n",
    "'家居': 8,\n",
    "'游戏': 9,\n",
    "'房产': 10,\n",
    "'时尚': 11,\n",
    "'彩票': 12,\n",
    "'星座': 13}\n",
    "```\n",
    "\n",
    " - text: 赛题数据为新闻文本，并按照字符级别进行匿名处理。\n",
    " \n",
    "- 分类评价标准：f1_score\n",
    "$$\n",
    "F_1 = 2 \\times \\frac {p\\times r} {p + r}\n",
    "$$\n",
    "$p$:precision查准率/精确率\n",
    "$r$:recall查全率/召回率"
   ]
  },
  {
   "cell_type": "markdown",
   "metadata": {},
   "source": [
    "### 数据分析"
   ]
  },
  {
   "cell_type": "markdown",
   "metadata": {},
   "source": [
    "在读取完成数据集后，我们还可以对数据集进行数据分析的操作。虽然对于非结构数据并不需要做很多的数据分析，但通过数据分析还是可以找出一些规律的。\n",
    "\n",
    "此步骤我们读取了所有的训练集数据，在此我们通过数据分析希望得出以下结论：\n",
    "- 赛题数据中，新闻文本的长度是多少？\n",
    "- 赛题数据的类别分布是怎么样的，哪些类别比较多？\n",
    "- 赛题数据中，字符分布是怎么样的？\n",
    "\n",
    "#### 句子长度分析\n",
    "\n",
    "在赛题数据中每行句子的字符使用空格进行隔开，所以可以直接统计单词的个数来得到每个句子的长度。统计并如下："
   ]
  },
  {
   "cell_type": "code",
   "execution_count": 13,
   "metadata": {
    "scrolled": true,
    "tags": []
   },
   "outputs": [
    {
     "name": "stdout",
     "output_type": "stream",
     "text": [
      "count     100.000000\n",
      "mean      872.320000\n",
      "std       923.138191\n",
      "min        64.000000\n",
      "25%       359.500000\n",
      "50%       598.000000\n",
      "75%      1058.000000\n",
      "max      7125.000000\n",
      "Name: text_len, dtype: float64\n"
     ]
    }
   ],
   "source": [
    "train_df['text_len'] = train_df['text'].apply(lambda x: len(x.split(' ')))\n",
    "print(train_df['text_len'].describe())"
   ]
  },
  {
   "cell_type": "markdown",
   "metadata": {},
   "source": [
    "![image-20200722205522944](pics/image-20200722205522944.png)\n",
    "\n",
    "对新闻句子的统计可以得出，本次赛题给定的文本比较长，每个句子平均由907个字符构成，最短的句子长度为2，最长的句子长度为57921。\n",
    "\n",
    "下图将句子长度绘制了直方图，可见大部分句子的长度都几种在2000以内。"
   ]
  },
  {
   "cell_type": "code",
   "execution_count": 14,
   "metadata": {},
   "outputs": [
    {
     "data": {
      "text/plain": [
       "Text(0.5, 1.0, 'Histogram of char count 字符统计分布直方图')"
      ]
     },
     "execution_count": 14,
     "metadata": {},
     "output_type": "execute_result"
    },
    {
     "data": {
      "image/png": "[encoded data removed]",
      "text/plain": [
       "<Figure size 432x288 with 1 Axes>"
      ]
     },
     "metadata": {
      "needs_background": "light"
     },
     "output_type": "display_data"
    }
   ],
   "source": [
    "plt.hist(train_df['text_len'], bins=200) #hist直方图\n",
    "plt.xlabel('Text char count')\n",
    "plt.title(\"Histogram of char count 字符统计分布直方图\")"
   ]
  },
  {
   "cell_type": "markdown",
   "metadata": {},
   "source": [
    "全量数据：![image-20200722205328343](pics/image-20200722205328343.png)\n",
    "#### label分布"
   ]
  },
  {
   "cell_type": "code",
   "execution_count": 15,
   "metadata": {},
   "outputs": [
    {
     "data": {
      "text/plain": [
       "Text(0.5, 0, 'category')"
      ]
     },
     "execution_count": 15,
     "metadata": {},
     "output_type": "execute_result"
    },
    {
     "data": {
      "image/png": "[encoded data removed]",
      "text/plain": [
       "<Figure size 432x288 with 1 Axes>"
      ]
     },
     "metadata": {
      "needs_background": "light"
     },
     "output_type": "display_data"
    }
   ],
   "source": [
    "train_df['label'].value_counts().plot(kind='bar')\n",
    "plt.title('label counts 类别统计直方图')\n",
    "plt.xlabel('category')"
   ]
  },
  {
   "cell_type": "markdown",
   "metadata": {},
   "source": [
    "和大多数分类问题一样，同样存在类别不均匀问题，一会在服务器上跑一下全量train数据，如下：\n",
    "![image-20200722205220885](pics/image-20200722205220885.png)"
   ]
  },
  {
   "cell_type": "markdown",
   "metadata": {},
   "source": [
    "#### *字符分布统计\n",
    "\n",
    "平常接触的rawdata通常会分词，所以还是第一次统计字符分布"
   ]
  },
  {
   "cell_type": "code",
   "execution_count": 16,
   "metadata": {
    "tags": []
   },
   "outputs": [
    {
     "name": "stdout",
     "output_type": "stream",
     "text": [
      "字的种类：2405\n",
      "('3750', 3702)\n",
      "('5034', 1)\n"
     ]
    }
   ],
   "source": [
    "from collections import Counter\n",
    "all_lines = ' '.join(list(train_df['text'])) # 以空格链接每一段话\n",
    "word_count = Counter(all_lines.split(\" \")) # 由于每段话都是空格分割的，转成Counter类型\n",
    "word_count = sorted(word_count.items(), key=lambda d:d[1], reverse = True) # 按[1]列倒序排序\n",
    "\n",
    "print(\"字的种类：{}\".format(len(word_count)))\n",
    "\n",
    "print(word_count[0])\n",
    "\n",
    "print(word_count[-1])"
   ]
  },
  {
   "cell_type": "markdown",
   "metadata": {},
   "source": [
    "\n",
    "将训练集中所有的句子进行拼接进而划分为字符，并统计每个字符的个数。\n",
    "\n",
    "从统计结果中可以看出，在训练集中总共包括6869个字，其中编号3750的字出现的次数最多，编号3133的字出现的次数最少。\n",
    "\n",
    "这里还可以根据字在每个句子的出现情况，反推出标点符号。下面代码统计了不同字符在句子中出现的次数，其中字符3750，字符900和字符648在20w新闻的覆盖率接近99%，很有可能是标点符号。"
   ]
  },
  {
   "cell_type": "code",
   "execution_count": 17,
   "metadata": {},
   "outputs": [],
   "source": [
    "train_df['text_unique'] = train_df['text'].apply(lambda x: ' '.join(list(set(x.split(' ')))))\n",
    "all_lines = ' '.join(list(train_df['text_unique']))\n",
    "word_count = Counter(all_lines.split(\" \"))\n",
    "word_count = sorted(word_count.items(), key=lambda d:int(d[1]), reverse = True)\n"
   ]
  },
  {
   "cell_type": "markdown",
   "metadata": {},
   "source": [
    "### **数据分析的结论**\n",
    "\n",
    "通过上述分析我们可以得出以下结论：\n",
    "\n",
    "1. 赛题中每个新闻包含的字符个数平均为1000个，还有一些新闻字符较长；\n",
    "2. 赛题中新闻类别分布不均匀，科技类新闻样本量接近4w，星座类新闻样本量不到1k；\n",
    "3. 赛题总共包括7000-8000个字符；\n",
    "\n",
    "通过数据分析，我们还可以得出以下结论：\n",
    "\n",
    "1. **每个新闻平均字符个数较多，可能需要截断；**\n",
    "\n",
    "2. 由于类别不均衡，会严重影响模型的精度；\n",
    "\n",
    "### **本章小结**\n",
    "\n",
    "本章对赛题数据进行读取，并新闻句子长度、类别和字符进行了可视化分析。\n",
    "\n",
    "### **本章作业**"
   ]
  },
  {
   "cell_type": "markdown",
   "metadata": {},
   "source": [
    "1.假设字符3750，字符900和字符648是句子的标点符号，请分析赛题每篇新闻平均由多少个句子构成？"
   ]
  },
  {
   "cell_type": "code",
   "execution_count": 18,
   "metadata": {
    "tags": []
   },
   "outputs": [
    {
     "data": {
      "text/plain": [
       "77.27"
      ]
     },
     "execution_count": 18,
     "metadata": {},
     "output_type": "execute_result"
    }
   ],
   "source": [
    "# 假设结尾和平时的短信一样有标准标点符号\n",
    "key = 0\n",
    "part = []\n",
    "for line in train_df['text']:\n",
    "    for piece in line.split(' '):\n",
    "        if piece in ['3750','900','648']:\n",
    "            key+=1\n",
    "    part.append(key)\n",
    "    key=0\n",
    "\n",
    "mean=sum(part) / len(part)\n",
    "mean"
   ]
  },
  {
   "cell_type": "markdown",
   "metadata": {},
   "source": [
    "2.统计每类新闻中出现次数对多的字符"
   ]
  },
  {
   "cell_type": "code",
   "execution_count": 19,
   "metadata": {},
   "outputs": [],
   "source": [
    "sequence=[]\n",
    "for i in train_df['label'].unique():\n",
    "    res=' '.join(train_df[train_df['label']==i]['text'])#每个类别所有文本连接后的结果\n",
    "    sequence.append(res)\n"
   ]
  },
  {
   "cell_type": "code",
   "execution_count": 20,
   "metadata": {},
   "outputs": [
    {
     "data": {
      "text/plain": [
       "['4704',\n",
       " '5310',\n",
       " '2465',\n",
       " '3370',\n",
       " '2999',\n",
       " '6220',\n",
       " '6122',\n",
       " '3370',\n",
       " '4464',\n",
       " '3370',\n",
       " '2555',\n",
       " '4939',\n",
       " '913',\n",
       " '2151']"
      ]
     },
     "execution_count": 20,
     "metadata": {},
     "output_type": "execute_result"
    }
   ],
   "source": [
    "m=0\n",
    "dic={}\n",
    "word=''\n",
    "r=[]\n",
    "for i in sequence:\n",
    "    for j in i.split(' '):\n",
    "        dic[j]=dic.setdefault(j,0)+1\n",
    "        if (dic[j]>m) and (j not in['3750','900','648']):\n",
    "            word=j\n",
    "            m=dic[j]\n",
    "    r.append(word)\n",
    "    m=0\n",
    "    dic={}\n",
    "    word=''\n",
    "r"
   ]
  },
  {
   "cell_type": "code",
   "execution_count": null,
   "metadata": {},
   "outputs": [],
   "source": []
  }
 ],
 "metadata": {
  "kernelspec": {
   "display_name": "Python 3",
   "language": "python",
   "name": "python3"
  },
  "language_info": {
   "codemirror_mode": {
    "name": "ipython",
    "version": 3
   },
   "file_extension": ".py",
   "mimetype": "text/x-python",
   "name": "python",
   "nbconvert_exporter": "python",
   "pygments_lexer": "ipython3",
   "version": "3.6.5"
  },
  "notify_time": "5",
  "toc": {
   "base_numbering": 1,
   "nav_menu": {},
   "number_sections": true,
   "sideBar": true,
   "skip_h1_title": false,
   "title_cell": "Table of Contents",
   "title_sidebar": "Contents",
   "toc_cell": false,
   "toc_position": {},
   "toc_section_display": true,
   "toc_window_display": false
  }
 },
 "nbformat": 4,
 "nbformat_minor": 2
}
