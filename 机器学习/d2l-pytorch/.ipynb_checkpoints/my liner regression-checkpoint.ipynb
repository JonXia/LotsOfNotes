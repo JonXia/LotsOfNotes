{
 "cells": [
  {
   "cell_type": "markdown",
   "metadata": {},
   "source": [
    "## 从线性回归切入深度学习\n",
    "假定一个房价预测问题，特征为房屋的面积和房龄，出售价格为标签。收集数据，整理成训练集，验证集，测试集。\n",
    "接下来我们从直观感受到，特征和标签的关系可能为线性关系，一种可能的表达式为\n",
    "$$\n",
    "price = w_{area}*area + w_{age}*age+b\n",
    "$$"
   ]
  },
  {
   "cell_type": "markdown",
   "metadata": {},
   "source": [
    "我们希望通过表达式来拟合数据，但是参数w和偏置b是很难确定的，所以定义了损失函数，来量化寻找w和b的目标。损失函数的常用选择是平方差函数。它在评估索引为$i$的样本误差的表达式为：\n",
    "\n",
    "$$\n",
    "l^{(i)}(\\mathbf{w}, b) = \\frac{1}{2} \\left(\\hat{y}^{(i)} - y^{(i)}\\right)^2,\n",
    "$$\n",
    "\n",
    "\n",
    "\n",
    "$$\n",
    "L(\\mathbf{w}, b) =\\frac{1}{n}\\sum_{i=1}^n l^{(i)}(\\mathbf{w}, b) =\\frac{1}{n} \\sum_{i=1}^n \\frac{1}{2}\\left(\\mathbf{w}^\\top \\mathbf{x}^{(i)} + b - y^{(i)}\\right)^2.\n",
    "$$"
   ]
  },
  {
   "cell_type": "markdown",
   "metadata": {},
   "source": [
    "为了求$\\textbf L$的最小值，通常要用微积分的做法，即求出函数的极值点，得到极值。"
   ]
  },
  {
   "cell_type": "markdown",
   "metadata": {},
   "source": [
    ">当模型和损失函数较为简单时，上面的误差最小化问题可以直接用公式表达出来。这类解叫做**解析解(analytical solution)**。\n",
    "本节的线性回归和平方误差就属于这个范畴。然而，大多数深度学习模型并没有解析解，只能通过优化算法通过有限次迭代模型参数，来尽可能降低损失函数的值。这类解叫做：**数值解（numberical solution）**"
   ]
  },
  {
   "cell_type": "markdown",
   "metadata": {},
   "source": [
    "在训练数量很大的时候，为了加快学习速度，采用**小批量随机梯度下降(mini-bathc stochastic gradient descent)**，它的算法是：先选取一组模型参数的初始值（一般随机初始化且均值为0，但通常不初始化为0）。\n",
    "\n",
    "每次迭代中先随即均匀采样一个由固定数目训练数据样本所组成的小批量$\\textbf B$，然后求这个小批量中数据样本的损失函数关于模型参数的导数，再对其求平均，乘以\\$\\eta$（学习率），以此式的结果作为本次迭代模型参数的减小量。\n",
    "\n",
    "Repeat:{\n",
    "$$ w:= w-\\eta \\frac {dL(w)} {dw}\n",
    "$$\n",
    "$$ b:= b-\\eta \\frac {dL(b)} {db}\n",
    "$$\n",
    "}\n"
   ]
  },
  {
   "cell_type": "code",
   "execution_count": 15,
   "metadata": {
    "ExecuteTime": {
     "end_time": "2020-02-14T04:00:31.001929Z",
     "start_time": "2020-02-14T04:00:30.997825Z"
    }
   },
   "outputs": [
    {
     "name": "stdout",
     "output_type": "stream",
     "text": [
      "1.4.0\n"
     ]
    }
   ],
   "source": [
    "%matplotlib inline\n",
    "import torch\n",
    "import time\n",
    "import numpy as np\n",
    "from IPython import display\n",
    "from matplotlib import pyplot as plt\n",
    "import numpy as np\n",
    "import random \n",
    "\n",
    "print(torch.__version__)"
   ]
  },
  {
   "cell_type": "code",
   "execution_count": 2,
   "metadata": {
    "ExecuteTime": {
     "end_time": "2020-02-14T03:59:29.093064Z",
     "start_time": "2020-02-14T03:59:29.083090Z"
    }
   },
   "outputs": [],
   "source": [
    "n = 1000\n",
    "a = torch.ones(n)\n",
    "b = torch.ones(n)\n",
    "\n",
    "# 实现一个定时器\n",
    "class Timer():\n",
    "    def __init__(self):\n",
    "        self.times = []\n",
    "        self.start()\n",
    "    def start(self):\n",
    "        self.start_time = time.time()\n",
    "    \n",
    "    def stop(self):\n",
    "        self.times.append(time.time() - self.start_time)\n",
    "        return self.times[-1]\n",
    "    \n",
    "    def avg(self):\n",
    "        return sum(self.times) / len(self.times)\n",
    "    \n",
    "    def sum(self):\n",
    "        return sum(self.times)"
   ]
  },
  {
   "cell_type": "code",
   "execution_count": 3,
   "metadata": {
    "ExecuteTime": {
     "end_time": "2020-02-14T03:59:29.127971Z",
     "start_time": "2020-02-14T03:59:29.097051Z"
    }
   },
   "outputs": [
    {
     "name": "stdout",
     "output_type": "stream",
     "text": [
      "'0.02095 sec'\n"
     ]
    }
   ],
   "source": [
    "timer = Timer()\n",
    "c = torch.zeros(n)\n",
    "for i in range(n):\n",
    "    c[i]=a[i]+b[i]\n",
    "print('\\'%.5f sec\\''% timer.stop())"
   ]
  },
  {
   "cell_type": "code",
   "execution_count": 4,
   "metadata": {
    "ExecuteTime": {
     "end_time": "2020-02-14T03:59:29.134952Z",
     "start_time": "2020-02-14T03:59:29.129966Z"
    }
   },
   "outputs": [
    {
     "name": "stdout",
     "output_type": "stream",
     "text": [
      "'0.0000000000 sec'\n"
     ]
    }
   ],
   "source": [
    "timer.start()\n",
    "d = a + b\n",
    "print('\\'%.10f sec\\''% timer.stop())"
   ]
  },
  {
   "cell_type": "markdown",
   "metadata": {},
   "source": [
    "## 从0实现线性回归"
   ]
  },
  {
   "cell_type": "markdown",
   "metadata": {},
   "source": [
    "### 生成数据集\n",
    "使用线性模型来生成数据集，生成一个1000个样本的数据集，下面是用来生成数据的线性关系：\n",
    "\n",
    "$$\n",
    "\\mathrm{price} = w_{\\mathrm{area}} \\cdot \\mathrm{area} + w_{\\mathrm{age}} \\cdot \\mathrm{age} + b\n",
    "$$"
   ]
  },
  {
   "cell_type": "code",
   "execution_count": 5,
   "metadata": {
    "ExecuteTime": {
     "end_time": "2020-02-14T03:59:29.147917Z",
     "start_time": "2020-02-14T03:59:29.137944Z"
    }
   },
   "outputs": [],
   "source": [
    "# 输入的特征数\n",
    "num_inputs = 2\n",
    "\n",
    "# 样本数量\n",
    "num_examples = 1000\n",
    "\n",
    "# 预设模型的真实参数\n",
    "true_w = [2, -3.4]\n",
    "true_b = 4.2\n",
    "\n",
    "# 生成数据集\n",
    "# 从均值0，方差1的正态分布中随机取数，返回tensor，即数据集的feature\n",
    "features = torch.randn(num_examples, num_inputs, dtype=torch.float32)\n",
    "labels = true_w[0] * features[:,0] + true_w[1] * features[:,1] + true_b\n",
    "# 给labels增加扰动\n",
    "labels += torch.tensor(np.random.normal(0, 0.01, size=labels.size()), dtype=torch.float32)"
   ]
  },
  {
   "cell_type": "code",
   "execution_count": 6,
   "metadata": {
    "ExecuteTime": {
     "end_time": "2020-02-14T03:59:29.355361Z",
     "start_time": "2020-02-14T03:59:29.150909Z"
    }
   },
   "outputs": [
    {
     "data": {
      "text/plain": [
       "<matplotlib.collections.PathCollection at 0x19396854f28>"
      ]
     },
     "execution_count": 6,
     "metadata": {},
     "output_type": "execute_result"
    },
    {
     "data": {
      "image/png": "[encoded data removed]",
      "text/plain": [
       "<Figure size 432x288 with 1 Axes>"
      ]
     },
     "metadata": {},
     "output_type": "display_data"
    }
   ],
   "source": [
    "plt.scatter(features[:, 0].numpy(), labels.numpy(), 1)"
   ]
  },
  {
   "cell_type": "markdown",
   "metadata": {},
   "source": [
    "### 读取数据集"
   ]
  },
  {
   "cell_type": "code",
   "execution_count": null,
   "metadata": {},
   "outputs": [],
   "source": []
  },
  {
   "cell_type": "code",
   "execution_count": 7,
   "metadata": {
    "ExecuteTime": {
     "end_time": "2020-02-14T03:59:29.362342Z",
     "start_time": "2020-02-14T03:59:29.357356Z"
    }
   },
   "outputs": [],
   "source": [
    "def data_iter(batch_size, features, labels ):\n",
    "    \"\"\"批量读取数据集\n",
    "    :param batch_size: 读取的数据大小\n",
    "    :param features: X\n",
    "    :param labels: y\n",
    "    \"\"\"\n",
    "    num_examples = len(features)\n",
    "    indices = list(range(num_examples))\n",
    "    random.shuffle(indices) # 每次迭代都把索引shuffle一下\n",
    "    \n",
    "    for i in range(0, num_examples, batch_size):\n",
    "        # indices是int类型，使用LongTensor类型\n",
    "        j = torch.LongTensor(indices[i: min(i+batch_size, num_examples)])\n",
    "        yield features.index_select(0, j), labels.index_select(0, j)"
   ]
  },
  {
   "cell_type": "code",
   "execution_count": 8,
   "metadata": {
    "ExecuteTime": {
     "end_time": "2020-02-14T03:59:29.377337Z",
     "start_time": "2020-02-14T03:59:29.364340Z"
    }
   },
   "outputs": [
    {
     "name": "stdout",
     "output_type": "stream",
     "text": [
      "tensor([[ 1.5668,  0.8418],\n",
      "        [ 0.9523,  1.2517],\n",
      "        [-0.6287, -1.2783],\n",
      "        [ 1.0434,  0.4427],\n",
      "        [ 0.9287,  0.9766],\n",
      "        [-1.8300,  0.6596],\n",
      "        [-2.5759,  0.8437],\n",
      "        [-0.1517, -0.4803],\n",
      "        [ 0.3522,  0.4505],\n",
      "        [-0.6141,  2.3785]]) \n",
      " tensor([ 4.4719,  1.8521,  7.2938,  4.7839,  2.7440, -1.7059, -3.8336,  5.5471,\n",
      "         3.3657, -5.1164])\n"
     ]
    }
   ],
   "source": [
    "batch_size = 10\n",
    "for X, y in data_iter(batch_size, features, labels):\n",
    "    print(X, '\\n', y)\n",
    "    break"
   ]
  },
  {
   "cell_type": "markdown",
   "metadata": {},
   "source": [
    "### 初始化模型参数"
   ]
  },
  {
   "cell_type": "code",
   "execution_count": 9,
   "metadata": {
    "ExecuteTime": {
     "end_time": "2020-02-14T03:59:29.390269Z",
     "start_time": "2020-02-14T03:59:29.379296Z"
    }
   },
   "outputs": [
    {
     "data": {
      "text/plain": [
       "tensor([0.], requires_grad=True)"
      ]
     },
     "execution_count": 9,
     "metadata": {},
     "output_type": "execute_result"
    }
   ],
   "source": [
    "w = torch.tensor(np.random.normal(0, 0.01, (num_inputs, 1)), dtype=torch.float32)\n",
    "b = torch.zeros(1, dtype=torch.float32)\n",
    "\n",
    "# 启动自动求梯度\n",
    "w.requires_grad_(requires_grad = True)\n",
    "b.requires_grad_(requires_grad = True)"
   ]
  },
  {
   "cell_type": "markdown",
   "metadata": {},
   "source": [
    "### 定义模型\n",
    "$$\n",
    "\\mathrm{price} = w_{\\mathrm{area}} \\cdot \\mathrm{area} + w_{\\mathrm{age}} \\cdot \\mathrm{age} + b\n",
    "$$"
   ]
  },
  {
   "cell_type": "code",
   "execution_count": 10,
   "metadata": {
    "ExecuteTime": {
     "end_time": "2020-02-14T03:59:29.400240Z",
     "start_time": "2020-02-14T03:59:29.392262Z"
    }
   },
   "outputs": [],
   "source": [
    "def linreg(X, w, b):\n",
    "    return torch.mm(X, w) + b"
   ]
  },
  {
   "cell_type": "markdown",
   "metadata": {},
   "source": [
    "### 定义损失函数\n",
    "使用均方误差损失函数：\n",
    "$$\n",
    "l^{(i)}(\\mathbf{w}, b) = \\frac{1}{2} \\left(\\hat{y}^{(i)} - y^{(i)}\\right)^2,\n",
    "$$"
   ]
  },
  {
   "cell_type": "code",
   "execution_count": 11,
   "metadata": {
    "ExecuteTime": {
     "end_time": "2020-02-14T03:59:29.412210Z",
     "start_time": "2020-02-14T03:59:29.402237Z"
    }
   },
   "outputs": [],
   "source": [
    "def squared_loss(y_hat, y):\n",
    "    return (y_hat - y.view(y_hat.size())) ** 2 / 2"
   ]
  },
  {
   "cell_type": "markdown",
   "metadata": {},
   "source": [
    "### 定义优化函数\n",
    "\n",
    "$$\n",
    "(\\mathbf{w},b) \\leftarrow (\\mathbf{w},b) - \\frac{\\eta}{|\\mathcal{B}|} \\sum_{i \\in \\mathcal{B}} \\frac  {\\partial_{(\\mathbf{w},b)} l^{(i)}} {\\partial(\\mathbf{w},b)}\n",
    "$$"
   ]
  },
  {
   "cell_type": "code",
   "execution_count": 12,
   "metadata": {
    "ExecuteTime": {
     "end_time": "2020-02-14T03:59:29.436152Z",
     "start_time": "2020-02-14T03:59:29.414204Z"
    }
   },
   "outputs": [],
   "source": [
    "def sgd(params, lr, batch_size):\n",
    "    for param in params:\n",
    "        param.data -= lr*param.grad / batch_size # .data https://blog.csdn.net/Gussss/article/details/87705604"
   ]
  },
  {
   "cell_type": "markdown",
   "metadata": {},
   "source": [
    "### 训练"
   ]
  },
  {
   "cell_type": "code",
   "execution_count": 13,
   "metadata": {
    "ExecuteTime": {
     "end_time": "2020-02-14T03:59:29.672535Z",
     "start_time": "2020-02-14T03:59:29.438141Z"
    }
   },
   "outputs": [
    {
     "name": "stdout",
     "output_type": "stream",
     "text": [
      "epoch 1, loss 0.031932\n",
      "epoch 2, loss 0.000112\n",
      "epoch 3, loss 0.000051\n",
      "epoch 4, loss 0.000051\n",
      "epoch 5, loss 0.000051\n"
     ]
    }
   ],
   "source": [
    "# 超参数\n",
    "lr = 0.03\n",
    "num_epochs = 5\n",
    "\n",
    "for epoch in range(num_epochs):\n",
    "    for X, y in data_iter(batch_size, features, labels):\n",
    "        # 求出每批数据的loss\n",
    "        l = squared_loss(linreg(X, w, b), y).sum()\n",
    "        # 求每批数据的梯度\n",
    "        l.backward()\n",
    "        sgd([w, b], lr, batch_size)\n",
    "        w.grad.data.zero_()\n",
    "        b.grad.data.zero_()\n",
    "    train_l = squared_loss(linreg(features, w, b), labels)\n",
    "    print('epoch %d, loss %f' % (epoch + 1, train_l.mean().item()))"
   ]
  },
  {
   "cell_type": "code",
   "execution_count": 16,
   "metadata": {
    "ExecuteTime": {
     "end_time": "2020-02-14T04:01:54.895476Z",
     "start_time": "2020-02-14T04:01:54.889492Z"
    }
   },
   "outputs": [
    {
     "data": {
      "text/plain": [
       "(tensor([[ 2.0005],\n",
       "         [-3.4000]], requires_grad=True),\n",
       " [2, -3.4],\n",
       " tensor([4.2002], requires_grad=True),\n",
       " 4.2)"
      ]
     },
     "execution_count": 16,
     "metadata": {},
     "output_type": "execute_result"
    }
   ],
   "source": [
    "# 模型参数与真实值对比\n",
    "w, true_w, b, true_b"
   ]
  },
  {
   "cell_type": "markdown",
   "metadata": {},
   "source": [
    "## 使用pytorch实现线性回归"
   ]
  },
  {
   "cell_type": "code",
   "execution_count": 26,
   "metadata": {
    "ExecuteTime": {
     "end_time": "2020-02-14T05:23:49.452060Z",
     "start_time": "2020-02-14T05:23:49.396163Z"
    }
   },
   "outputs": [],
   "source": [
    "from torch import nn\n",
    "torch.manual_seed(1)\n",
    "\n",
    "torch.set_default_tensor_type('torch.FloatTensor')"
   ]
  },
  {
   "cell_type": "markdown",
   "metadata": {},
   "source": [
    "### 生成数据集"
   ]
  },
  {
   "cell_type": "code",
   "execution_count": 19,
   "metadata": {
    "ExecuteTime": {
     "end_time": "2020-02-14T05:02:05.342992Z",
     "start_time": "2020-02-14T05:02:05.311531Z"
    }
   },
   "outputs": [],
   "source": [
    "num_inputs = 2\n",
    "num_examples = 1000\n",
    "\n",
    "true_w = [2, -3.4]\n",
    "true_b = 4.2\n",
    "\n",
    "features = torch.tensor(np.random.normal(0, 1, (num_examples, num_inputs)), dtype=torch.float)\n",
    "labels = true_w[0] * features[:, 0] + true_w[1] * features[:, 1] + true_b\n",
    "labels += torch.tensor(np.random.normal(0, 0.01, size=labels.size()), dtype=torch.float)"
   ]
  },
  {
   "cell_type": "markdown",
   "metadata": {},
   "source": [
    "### 读取数据集"
   ]
  },
  {
   "cell_type": "code",
   "execution_count": 23,
   "metadata": {
    "ExecuteTime": {
     "end_time": "2020-02-14T05:04:04.527332Z",
     "start_time": "2020-02-14T05:04:04.522345Z"
    }
   },
   "outputs": [],
   "source": [
    "import torch.utils.data as Data\n",
    "\n",
    "batch_size = 10\n",
    "\n",
    "# X, y to Tensor format\n",
    "dataset = Data.TensorDataset(features, labels)\n",
    "\n",
    "data_iter = Data.DataLoader(\n",
    "    dataset=dataset,\n",
    "    batch_size=batch_size,\n",
    "    shuffle=True,\n",
    "    num_workers=2 #多线程读数据\n",
    ")"
   ]
  },
  {
   "cell_type": "code",
   "execution_count": 24,
   "metadata": {
    "ExecuteTime": {
     "end_time": "2020-02-14T05:04:33.287477Z",
     "start_time": "2020-02-14T05:04:31.553569Z"
    }
   },
   "outputs": [
    {
     "name": "stdout",
     "output_type": "stream",
     "text": [
      "tensor([[-0.7685, -1.1005],\n",
      "        [ 0.9644,  0.2457],\n",
      "        [-0.4260, -0.7333],\n",
      "        [ 1.2478,  0.5935],\n",
      "        [ 0.6758, -0.6483],\n",
      "        [-1.1872,  0.5089],\n",
      "        [ 0.2762, -0.5474],\n",
      "        [ 1.6209,  1.2859],\n",
      "        [-1.2334,  0.9071],\n",
      "        [ 1.7527,  0.7324]]) \n",
      " tensor([ 6.4162,  5.2764,  5.8547,  4.6758,  7.7617,  0.1015,  6.6208,  3.0877,\n",
      "        -1.3430,  5.2252])\n"
     ]
    }
   ],
   "source": [
    "for X, y in data_iter:\n",
    "    print(X, '\\n', y)\n",
    "    break"
   ]
  },
  {
   "cell_type": "markdown",
   "metadata": {},
   "source": [
    "### 定义模型\n"
   ]
  },
  {
   "cell_type": "code",
   "execution_count": 35,
   "metadata": {
    "ExecuteTime": {
     "end_time": "2020-02-14T05:40:05.242443Z",
     "start_time": "2020-02-14T05:40:05.220098Z"
    }
   },
   "outputs": [],
   "source": [
    "# 定义模型类\n",
    "class LinearNet(nn.Module):\n",
    "    def __init__(self, n_feature):\n",
    "        super(LinearNet, self).__init__()\n",
    "        self.linear = nn.Linear(n_feature, 1)\n",
    "    \n",
    "    def forward(self, x):\n",
    "        y = self.linear(x)\n",
    "        return y\n",
    "\n",
    "net = LinearNet(num_inputs)"
   ]
  },
  {
   "cell_type": "code",
   "execution_count": 38,
   "metadata": {
    "ExecuteTime": {
     "end_time": "2020-02-14T05:44:08.457006Z",
     "start_time": "2020-02-14T05:44:08.450028Z"
    }
   },
   "outputs": [
    {
     "name": "stdout",
     "output_type": "stream",
     "text": [
      "Sequential(\n",
      "  (linear): Linear(in_features=2, out_features=1, bias=True)\n",
      ")\n",
      "Linear(in_features=2, out_features=1, bias=True)\n"
     ]
    }
   ],
   "source": [
    "# 用torch的api初始化多层网络的方法\n",
    "# method one\n",
    "net = nn.Sequential(\n",
    "    nn.Linear(num_inputs, 1)\n",
    "    # other layers can be added here\n",
    "    )\n",
    "\n",
    "# method two\n",
    "net = nn.Sequential()\n",
    "net.add_module('linear', nn.Linear(num_inputs, 1))\n",
    "# net.add_module ......\n",
    "\n",
    "# method three\n",
    "from collections import OrderedDict\n",
    "net = nn.Sequential(OrderedDict([\n",
    "          ('linear', nn.Linear(num_inputs, 1))\n",
    "          # ......\n",
    "        ]))\n",
    "\n",
    "print(net)\n",
    "print(net[0])"
   ]
  },
  {
   "cell_type": "markdown",
   "metadata": {},
   "source": [
    "### 初始化模型参数"
   ]
  },
  {
   "cell_type": "code",
   "execution_count": 45,
   "metadata": {
    "ExecuteTime": {
     "end_time": "2020-02-14T05:46:19.907690Z",
     "start_time": "2020-02-14T05:46:19.901708Z"
    }
   },
   "outputs": [
    {
     "data": {
      "text/plain": [
       "Parameter containing:\n",
       "tensor([0.], requires_grad=True)"
      ]
     },
     "execution_count": 45,
     "metadata": {},
     "output_type": "execute_result"
    }
   ],
   "source": [
    "from torch.nn import init\n",
    "\n",
    "# 初始化权重和偏置\n",
    "init.normal_(net[0].weight, mean=0.0, std=0.01)\n",
    "init.constant_(net[0].bias, val=0.0) # 或者用 net[0].bias.data.fill_(0)"
   ]
  },
  {
   "cell_type": "markdown",
   "metadata": {},
   "source": [
    "### 初始化模型参数"
   ]
  },
  {
   "cell_type": "code",
   "execution_count": 50,
   "metadata": {
    "ExecuteTime": {
     "end_time": "2020-02-14T05:49:30.590537Z",
     "start_time": "2020-02-14T05:49:30.587542Z"
    }
   },
   "outputs": [],
   "source": [
    "loss = nn.MSELoss()"
   ]
  },
  {
   "cell_type": "markdown",
   "metadata": {},
   "source": [
    "### 优化函数"
   ]
  },
  {
   "cell_type": "code",
   "execution_count": 52,
   "metadata": {
    "ExecuteTime": {
     "end_time": "2020-02-14T05:52:12.253734Z",
     "start_time": "2020-02-14T05:52:12.245756Z"
    }
   },
   "outputs": [
    {
     "data": {
      "text/plain": [
       "SGD (\n",
       "Parameter Group 0\n",
       "    dampening: 0\n",
       "    lr: 0.03\n",
       "    momentum: 0\n",
       "    nesterov: False\n",
       "    weight_decay: 0\n",
       ")"
      ]
     },
     "execution_count": 52,
     "metadata": {},
     "output_type": "execute_result"
    }
   ],
   "source": [
    "import torch.optim as optim\n",
    "optimizer = optim.SGD(net.parameters(), lr=0.03)\n",
    "optimizer"
   ]
  },
  {
   "cell_type": "markdown",
   "metadata": {},
   "source": [
    "### 训练"
   ]
  },
  {
   "cell_type": "code",
   "execution_count": null,
   "metadata": {},
   "outputs": [],
   "source": [
    "num_epochs = 3\n",
    "for epoch in range(num_epochs):\n",
    "    for X, y in data_iter:\n",
    "        output = net(X)\n",
    "        l = loss(output, y.view(-1, 1))\n",
    "        optimizer.zero_grad()\n",
    "        l.backward()\n",
    "        optimizer.step()\n",
    "    print('epoch %d, loss %f'% (epoch, l.item()))"
   ]
  }
 ],
 "metadata": {
  "file_extension": ".py",
  "kernelspec": {
   "display_name": "Python 3",
   "language": "python",
   "name": "python3"
  },
  "language_info": {
   "codemirror_mode": {
    "name": "ipython",
    "version": 3
   },
   "file_extension": ".py",
   "mimetype": "text/x-python",
   "name": "python",
   "nbconvert_exporter": "python",
   "pygments_lexer": "ipython3",
   "version": "3.6.5"
  },
  "mimetype": "text/x-python",
  "name": "python",
  "npconvert_exporter": "python",
  "pygments_lexer": "ipython3",
  "toc": {
   "base_numbering": 1,
   "nav_menu": {},
   "number_sections": true,
   "sideBar": true,
   "skip_h1_title": false,
   "title_cell": "Table of Contents",
   "title_sidebar": "Contents",
   "toc_cell": false,
   "toc_position": {},
   "toc_section_display": true,
   "toc_window_display": false
  },
  "varInspector": {
   "cols": {
    "lenName": 16,
    "lenType": 16,
    "lenVar": 40
   },
   "kernels_config": {
    "python": {
     "delete_cmd_postfix": "",
     "delete_cmd_prefix": "del ",
     "library": "var_list.py",
     "varRefreshCmd": "print(var_dic_list())"
    },
    "r": {
     "delete_cmd_postfix": ") ",
     "delete_cmd_prefix": "rm(",
     "library": "var_list.r",
     "varRefreshCmd": "cat(var_dic_list()) "
    }
   },
   "types_to_exclude": [
    "module",
    "function",
    "builtin_function_or_method",
    "instance",
    "_Feature"
   ],
   "window_display": false
  },
  "version": 3
 },
 "nbformat": 4,
 "nbformat_minor": 2
}
